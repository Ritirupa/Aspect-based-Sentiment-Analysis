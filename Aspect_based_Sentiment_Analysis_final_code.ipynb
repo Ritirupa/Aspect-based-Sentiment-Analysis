{
  "cells": [
    {
      "cell_type": "code",
      "execution_count": 10,
      "metadata": {
        "colab": {
          "base_uri": "https://localhost:8080/"
        },
        "id": "rvZV_tEganRU",
        "outputId": "c296e6eb-1b21-4376-c5e8-2877f4fbcb61"
      },
      "outputs": [
        {
          "output_type": "stream",
          "name": "stdout",
          "text": [
            "Collecting demoji\n",
            "  Downloading demoji-1.1.0-py3-none-any.whl (42 kB)\n",
            "\u001b[?25l     \u001b[90m━━━━━━━━━━━━━━━━━━━━━━━━━━━━━━━━━━━━━━━━\u001b[0m \u001b[32m0.0/42.9 kB\u001b[0m \u001b[31m?\u001b[0m eta \u001b[36m-:--:--\u001b[0m\r\u001b[2K     \u001b[90m━━━━━━━━━━━━━━━━━━━━━━━━━━━━━━━━━━━━━━━━\u001b[0m \u001b[32m42.9/42.9 kB\u001b[0m \u001b[31m1.0 MB/s\u001b[0m eta \u001b[36m0:00:00\u001b[0m\n",
            "\u001b[?25hInstalling collected packages: demoji\n",
            "Successfully installed demoji-1.1.0\n"
          ]
        }
      ],
      "source": [
        "!pip install demoji"
      ]
    },
    {
      "cell_type": "code",
      "execution_count": 11,
      "metadata": {
        "colab": {
          "base_uri": "https://localhost:8080/"
        },
        "id": "tLtsV_otftyR",
        "outputId": "827fe062-df72-4db5-97ea-408240ebbb84"
      },
      "outputs": [
        {
          "output_type": "stream",
          "name": "stdout",
          "text": [
            "Collecting nlpaug\n",
            "  Downloading nlpaug-1.1.11-py3-none-any.whl (410 kB)\n",
            "\u001b[2K     \u001b[90m━━━━━━━━━━━━━━━━━━━━━━━━━━━━━━━━━━━━━━━━\u001b[0m \u001b[32m410.5/410.5 kB\u001b[0m \u001b[31m7.6 MB/s\u001b[0m eta \u001b[36m0:00:00\u001b[0m\n",
            "\u001b[?25hRequirement already satisfied: numpy>=1.16.2 in /usr/local/lib/python3.10/dist-packages (from nlpaug) (1.23.5)\n",
            "Requirement already satisfied: pandas>=1.2.0 in /usr/local/lib/python3.10/dist-packages (from nlpaug) (1.5.3)\n",
            "Requirement already satisfied: requests>=2.22.0 in /usr/local/lib/python3.10/dist-packages (from nlpaug) (2.31.0)\n",
            "Requirement already satisfied: gdown>=4.0.0 in /usr/local/lib/python3.10/dist-packages (from nlpaug) (4.6.6)\n",
            "Requirement already satisfied: filelock in /usr/local/lib/python3.10/dist-packages (from gdown>=4.0.0->nlpaug) (3.13.1)\n",
            "Requirement already satisfied: six in /usr/local/lib/python3.10/dist-packages (from gdown>=4.0.0->nlpaug) (1.16.0)\n",
            "Requirement already satisfied: tqdm in /usr/local/lib/python3.10/dist-packages (from gdown>=4.0.0->nlpaug) (4.66.1)\n",
            "Requirement already satisfied: beautifulsoup4 in /usr/local/lib/python3.10/dist-packages (from gdown>=4.0.0->nlpaug) (4.11.2)\n",
            "Requirement already satisfied: python-dateutil>=2.8.1 in /usr/local/lib/python3.10/dist-packages (from pandas>=1.2.0->nlpaug) (2.8.2)\n",
            "Requirement already satisfied: pytz>=2020.1 in /usr/local/lib/python3.10/dist-packages (from pandas>=1.2.0->nlpaug) (2023.3.post1)\n",
            "Requirement already satisfied: charset-normalizer<4,>=2 in /usr/local/lib/python3.10/dist-packages (from requests>=2.22.0->nlpaug) (3.3.2)\n",
            "Requirement already satisfied: idna<4,>=2.5 in /usr/local/lib/python3.10/dist-packages (from requests>=2.22.0->nlpaug) (3.4)\n",
            "Requirement already satisfied: urllib3<3,>=1.21.1 in /usr/local/lib/python3.10/dist-packages (from requests>=2.22.0->nlpaug) (2.0.7)\n",
            "Requirement already satisfied: certifi>=2017.4.17 in /usr/local/lib/python3.10/dist-packages (from requests>=2.22.0->nlpaug) (2023.7.22)\n",
            "Requirement already satisfied: soupsieve>1.2 in /usr/local/lib/python3.10/dist-packages (from beautifulsoup4->gdown>=4.0.0->nlpaug) (2.5)\n",
            "Requirement already satisfied: PySocks!=1.5.7,>=1.5.6 in /usr/local/lib/python3.10/dist-packages (from requests>=2.22.0->nlpaug) (1.7.1)\n",
            "Installing collected packages: nlpaug\n",
            "Successfully installed nlpaug-1.1.11\n"
          ]
        }
      ],
      "source": [
        "!pip install nlpaug"
      ]
    },
    {
      "cell_type": "code",
      "execution_count": 12,
      "metadata": {
        "id": "hm2zOp1tXU7E"
      },
      "outputs": [],
      "source": [
        "import pandas as pd\n",
        "import torch\n",
        "import numpy as np\n",
        "import sqlite3\n",
        "import matplotlib.pyplot as plt\n",
        "import seaborn as sns\n",
        "import demoji\n",
        "import re\n",
        "import spacy\n",
        "import nltk\n",
        "from nltk.corpus import stopwords\n",
        "from nltk.stem import WordNetLemmatizer\n",
        "from nltk.stem.porter import PorterStemmer\n",
        "from sklearn.feature_extraction.text import CountVectorizer\n",
        "import nlpaug.augmenter.word as naw\n",
        "\n",
        "pd.set_option('display.max_columns', None)\n",
        "pd.set_option('display.max_rows', None)\n",
        "import warnings"
      ]
    },
    {
      "cell_type": "code",
      "execution_count": null,
      "metadata": {
        "id": "khGb23R4Yk2X"
      },
      "outputs": [],
      "source": [
        "import sqlite3\n",
        "\n",
        "# Read sqlite query results into a pandas DataFrame\n",
        "con = sqlite3.connect(\"flipkart_products.db\")\n",
        "items = pd.read_sql_query(\"SELECT * from items\", con)\n",
        "con.close()"
      ]
    },
    {
      "cell_type": "code",
      "execution_count": null,
      "metadata": {
        "colab": {
          "base_uri": "https://localhost:8080/",
          "height": 379
        },
        "id": "GFYTjdt9Y0Rc",
        "outputId": "04453fc7-f690-47b6-9ae7-421b393a501f"
      },
      "outputs": [
        {
          "data": {
            "text/html": [
              "\n",
              "  <div id=\"df-34bce4a4-3ac0-4684-9e06-d49d4d933979\" class=\"colab-df-container\">\n",
              "    <div>\n",
              "<style scoped>\n",
              "    .dataframe tbody tr th:only-of-type {\n",
              "        vertical-align: middle;\n",
              "    }\n",
              "\n",
              "    .dataframe tbody tr th {\n",
              "        vertical-align: top;\n",
              "    }\n",
              "\n",
              "    .dataframe thead th {\n",
              "        text-align: right;\n",
              "    }\n",
              "</style>\n",
              "<table border=\"1\" class=\"dataframe\">\n",
              "  <thead>\n",
              "    <tr style=\"text-align: right;\">\n",
              "      <th></th>\n",
              "      <th>product_id</th>\n",
              "      <th>product_name</th>\n",
              "      <th>price</th>\n",
              "      <th>category</th>\n",
              "      <th>sub_category</th>\n",
              "      <th>specifications</th>\n",
              "      <th>ratings</th>\n",
              "      <th>discount</th>\n",
              "      <th>moreinfo</th>\n",
              "    </tr>\n",
              "  </thead>\n",
              "  <tbody>\n",
              "    <tr>\n",
              "      <th>0</th>\n",
              "      <td>ECMB000001</td>\n",
              "      <td>Redmi 9A (SeaBlue, 32 GB)</td>\n",
              "      <td>₹7,413</td>\n",
              "      <td>Electronics</td>\n",
              "      <td>Mobile</td>\n",
              "      <td>2 GB RAM | 32 GB ROM16.59 cm (6.53 inch) Full ...</td>\n",
              "      <td>4.3</td>\n",
              "      <td>3.0</td>\n",
              "      <td>/redmi-9a-seablue-32-gb/p/itmeabd39a0cd669?pid...</td>\n",
              "    </tr>\n",
              "    <tr>\n",
              "      <th>1</th>\n",
              "      <td>ECMB000002</td>\n",
              "      <td>Redmi 9A (Midnight Black, 32 GB)</td>\n",
              "      <td>₹7,421</td>\n",
              "      <td>Electronics</td>\n",
              "      <td>Mobile</td>\n",
              "      <td>2 GB RAM | 32 GB ROM16.59 cm (6.53 inch) Full ...</td>\n",
              "      <td>4.3</td>\n",
              "      <td>3.0</td>\n",
              "      <td>/redmi-9a-midnight-black-32-gb/p/itmeabd39a0cd...</td>\n",
              "    </tr>\n",
              "    <tr>\n",
              "      <th>2</th>\n",
              "      <td>ECMB000003</td>\n",
              "      <td>Redmi 9A (Nature Green, 32 GB)</td>\n",
              "      <td>₹7,384</td>\n",
              "      <td>Electronics</td>\n",
              "      <td>Mobile</td>\n",
              "      <td>2 GB RAM | 32 GB ROM16.59 cm (6.53 inch) Full ...</td>\n",
              "      <td>4.3</td>\n",
              "      <td>4.0</td>\n",
              "      <td>/redmi-9a-nature-green-32-gb/p/itmeabd39a0cd66...</td>\n",
              "    </tr>\n",
              "    <tr>\n",
              "      <th>3</th>\n",
              "      <td>ECMB000004</td>\n",
              "      <td>Redmi 9 (Carbon Black, 64 GB)</td>\n",
              "      <td>₹10,745</td>\n",
              "      <td>Electronics</td>\n",
              "      <td>Mobile</td>\n",
              "      <td>4 GB RAM | 64 GB ROM16.59 cm (6.53 inch) HD+ D...</td>\n",
              "      <td>4.2</td>\n",
              "      <td>None</td>\n",
              "      <td>/redmi-9-carbon-black-64-gb/p/itm4fb151383983b...</td>\n",
              "    </tr>\n",
              "    <tr>\n",
              "      <th>4</th>\n",
              "      <td>ECMB000005</td>\n",
              "      <td>Redmi 9 (Sky Blue, 64 GB)</td>\n",
              "      <td>₹10,489</td>\n",
              "      <td>Electronics</td>\n",
              "      <td>Mobile</td>\n",
              "      <td>4 GB RAM | 64 GB ROM16.59 cm (6.53 inch) HD+ D...</td>\n",
              "      <td>4.2</td>\n",
              "      <td>None</td>\n",
              "      <td>/redmi-9-sky-blue-64-gb/p/itm4fb151383983b?pid...</td>\n",
              "    </tr>\n",
              "  </tbody>\n",
              "</table>\n",
              "</div>\n",
              "    <div class=\"colab-df-buttons\">\n",
              "\n",
              "  <div class=\"colab-df-container\">\n",
              "    <button class=\"colab-df-convert\" onclick=\"convertToInteractive('df-34bce4a4-3ac0-4684-9e06-d49d4d933979')\"\n",
              "            title=\"Convert this dataframe to an interactive table.\"\n",
              "            style=\"display:none;\">\n",
              "\n",
              "  <svg xmlns=\"http://www.w3.org/2000/svg\" height=\"24px\" viewBox=\"0 -960 960 960\">\n",
              "    <path d=\"M120-120v-720h720v720H120Zm60-500h600v-160H180v160Zm220 220h160v-160H400v160Zm0 220h160v-160H400v160ZM180-400h160v-160H180v160Zm440 0h160v-160H620v160ZM180-180h160v-160H180v160Zm440 0h160v-160H620v160Z\"/>\n",
              "  </svg>\n",
              "    </button>\n",
              "\n",
              "  <style>\n",
              "    .colab-df-container {\n",
              "      display:flex;\n",
              "      gap: 12px;\n",
              "    }\n",
              "\n",
              "    .colab-df-convert {\n",
              "      background-color: #E8F0FE;\n",
              "      border: none;\n",
              "      border-radius: 50%;\n",
              "      cursor: pointer;\n",
              "      display: none;\n",
              "      fill: #1967D2;\n",
              "      height: 32px;\n",
              "      padding: 0 0 0 0;\n",
              "      width: 32px;\n",
              "    }\n",
              "\n",
              "    .colab-df-convert:hover {\n",
              "      background-color: #E2EBFA;\n",
              "      box-shadow: 0px 1px 2px rgba(60, 64, 67, 0.3), 0px 1px 3px 1px rgba(60, 64, 67, 0.15);\n",
              "      fill: #174EA6;\n",
              "    }\n",
              "\n",
              "    .colab-df-buttons div {\n",
              "      margin-bottom: 4px;\n",
              "    }\n",
              "\n",
              "    [theme=dark] .colab-df-convert {\n",
              "      background-color: #3B4455;\n",
              "      fill: #D2E3FC;\n",
              "    }\n",
              "\n",
              "    [theme=dark] .colab-df-convert:hover {\n",
              "      background-color: #434B5C;\n",
              "      box-shadow: 0px 1px 3px 1px rgba(0, 0, 0, 0.15);\n",
              "      filter: drop-shadow(0px 1px 2px rgba(0, 0, 0, 0.3));\n",
              "      fill: #FFFFFF;\n",
              "    }\n",
              "  </style>\n",
              "\n",
              "    <script>\n",
              "      const buttonEl =\n",
              "        document.querySelector('#df-34bce4a4-3ac0-4684-9e06-d49d4d933979 button.colab-df-convert');\n",
              "      buttonEl.style.display =\n",
              "        google.colab.kernel.accessAllowed ? 'block' : 'none';\n",
              "\n",
              "      async function convertToInteractive(key) {\n",
              "        const element = document.querySelector('#df-34bce4a4-3ac0-4684-9e06-d49d4d933979');\n",
              "        const dataTable =\n",
              "          await google.colab.kernel.invokeFunction('convertToInteractive',\n",
              "                                                    [key], {});\n",
              "        if (!dataTable) return;\n",
              "\n",
              "        const docLinkHtml = 'Like what you see? Visit the ' +\n",
              "          '<a target=\"_blank\" href=https://colab.research.google.com/notebooks/data_table.ipynb>data table notebook</a>'\n",
              "          + ' to learn more about interactive tables.';\n",
              "        element.innerHTML = '';\n",
              "        dataTable['output_type'] = 'display_data';\n",
              "        await google.colab.output.renderOutput(dataTable, element);\n",
              "        const docLink = document.createElement('div');\n",
              "        docLink.innerHTML = docLinkHtml;\n",
              "        element.appendChild(docLink);\n",
              "      }\n",
              "    </script>\n",
              "  </div>\n",
              "\n",
              "\n",
              "<div id=\"df-95278b2a-c2f9-4582-82d8-9ba8fabc11f3\">\n",
              "  <button class=\"colab-df-quickchart\" onclick=\"quickchart('df-95278b2a-c2f9-4582-82d8-9ba8fabc11f3')\"\n",
              "            title=\"Suggest charts\"\n",
              "            style=\"display:none;\">\n",
              "\n",
              "<svg xmlns=\"http://www.w3.org/2000/svg\" height=\"24px\"viewBox=\"0 0 24 24\"\n",
              "     width=\"24px\">\n",
              "    <g>\n",
              "        <path d=\"M19 3H5c-1.1 0-2 .9-2 2v14c0 1.1.9 2 2 2h14c1.1 0 2-.9 2-2V5c0-1.1-.9-2-2-2zM9 17H7v-7h2v7zm4 0h-2V7h2v10zm4 0h-2v-4h2v4z\"/>\n",
              "    </g>\n",
              "</svg>\n",
              "  </button>\n",
              "\n",
              "<style>\n",
              "  .colab-df-quickchart {\n",
              "      --bg-color: #E8F0FE;\n",
              "      --fill-color: #1967D2;\n",
              "      --hover-bg-color: #E2EBFA;\n",
              "      --hover-fill-color: #174EA6;\n",
              "      --disabled-fill-color: #AAA;\n",
              "      --disabled-bg-color: #DDD;\n",
              "  }\n",
              "\n",
              "  [theme=dark] .colab-df-quickchart {\n",
              "      --bg-color: #3B4455;\n",
              "      --fill-color: #D2E3FC;\n",
              "      --hover-bg-color: #434B5C;\n",
              "      --hover-fill-color: #FFFFFF;\n",
              "      --disabled-bg-color: #3B4455;\n",
              "      --disabled-fill-color: #666;\n",
              "  }\n",
              "\n",
              "  .colab-df-quickchart {\n",
              "    background-color: var(--bg-color);\n",
              "    border: none;\n",
              "    border-radius: 50%;\n",
              "    cursor: pointer;\n",
              "    display: none;\n",
              "    fill: var(--fill-color);\n",
              "    height: 32px;\n",
              "    padding: 0;\n",
              "    width: 32px;\n",
              "  }\n",
              "\n",
              "  .colab-df-quickchart:hover {\n",
              "    background-color: var(--hover-bg-color);\n",
              "    box-shadow: 0 1px 2px rgba(60, 64, 67, 0.3), 0 1px 3px 1px rgba(60, 64, 67, 0.15);\n",
              "    fill: var(--button-hover-fill-color);\n",
              "  }\n",
              "\n",
              "  .colab-df-quickchart-complete:disabled,\n",
              "  .colab-df-quickchart-complete:disabled:hover {\n",
              "    background-color: var(--disabled-bg-color);\n",
              "    fill: var(--disabled-fill-color);\n",
              "    box-shadow: none;\n",
              "  }\n",
              "\n",
              "  .colab-df-spinner {\n",
              "    border: 2px solid var(--fill-color);\n",
              "    border-color: transparent;\n",
              "    border-bottom-color: var(--fill-color);\n",
              "    animation:\n",
              "      spin 1s steps(1) infinite;\n",
              "  }\n",
              "\n",
              "  @keyframes spin {\n",
              "    0% {\n",
              "      border-color: transparent;\n",
              "      border-bottom-color: var(--fill-color);\n",
              "      border-left-color: var(--fill-color);\n",
              "    }\n",
              "    20% {\n",
              "      border-color: transparent;\n",
              "      border-left-color: var(--fill-color);\n",
              "      border-top-color: var(--fill-color);\n",
              "    }\n",
              "    30% {\n",
              "      border-color: transparent;\n",
              "      border-left-color: var(--fill-color);\n",
              "      border-top-color: var(--fill-color);\n",
              "      border-right-color: var(--fill-color);\n",
              "    }\n",
              "    40% {\n",
              "      border-color: transparent;\n",
              "      border-right-color: var(--fill-color);\n",
              "      border-top-color: var(--fill-color);\n",
              "    }\n",
              "    60% {\n",
              "      border-color: transparent;\n",
              "      border-right-color: var(--fill-color);\n",
              "    }\n",
              "    80% {\n",
              "      border-color: transparent;\n",
              "      border-right-color: var(--fill-color);\n",
              "      border-bottom-color: var(--fill-color);\n",
              "    }\n",
              "    90% {\n",
              "      border-color: transparent;\n",
              "      border-bottom-color: var(--fill-color);\n",
              "    }\n",
              "  }\n",
              "</style>\n",
              "\n",
              "  <script>\n",
              "    async function quickchart(key) {\n",
              "      const quickchartButtonEl =\n",
              "        document.querySelector('#' + key + ' button');\n",
              "      quickchartButtonEl.disabled = true;  // To prevent multiple clicks.\n",
              "      quickchartButtonEl.classList.add('colab-df-spinner');\n",
              "      try {\n",
              "        const charts = await google.colab.kernel.invokeFunction(\n",
              "            'suggestCharts', [key], {});\n",
              "      } catch (error) {\n",
              "        console.error('Error during call to suggestCharts:', error);\n",
              "      }\n",
              "      quickchartButtonEl.classList.remove('colab-df-spinner');\n",
              "      quickchartButtonEl.classList.add('colab-df-quickchart-complete');\n",
              "    }\n",
              "    (() => {\n",
              "      let quickchartButtonEl =\n",
              "        document.querySelector('#df-95278b2a-c2f9-4582-82d8-9ba8fabc11f3 button');\n",
              "      quickchartButtonEl.style.display =\n",
              "        google.colab.kernel.accessAllowed ? 'block' : 'none';\n",
              "    })();\n",
              "  </script>\n",
              "</div>\n",
              "    </div>\n",
              "  </div>\n"
            ],
            "text/plain": [
              "   product_id                      product_name    price     category  \\\n",
              "0  ECMB000001         Redmi 9A (SeaBlue, 32 GB)   ₹7,413  Electronics   \n",
              "1  ECMB000002  Redmi 9A (Midnight Black, 32 GB)   ₹7,421  Electronics   \n",
              "2  ECMB000003    Redmi 9A (Nature Green, 32 GB)   ₹7,384  Electronics   \n",
              "3  ECMB000004     Redmi 9 (Carbon Black, 64 GB)  ₹10,745  Electronics   \n",
              "4  ECMB000005         Redmi 9 (Sky Blue, 64 GB)  ₹10,489  Electronics   \n",
              "\n",
              "  sub_category                                     specifications ratings  \\\n",
              "0       Mobile  2 GB RAM | 32 GB ROM16.59 cm (6.53 inch) Full ...     4.3   \n",
              "1       Mobile  2 GB RAM | 32 GB ROM16.59 cm (6.53 inch) Full ...     4.3   \n",
              "2       Mobile  2 GB RAM | 32 GB ROM16.59 cm (6.53 inch) Full ...     4.3   \n",
              "3       Mobile  4 GB RAM | 64 GB ROM16.59 cm (6.53 inch) HD+ D...     4.2   \n",
              "4       Mobile  4 GB RAM | 64 GB ROM16.59 cm (6.53 inch) HD+ D...     4.2   \n",
              "\n",
              "  discount                                           moreinfo  \n",
              "0      3.0  /redmi-9a-seablue-32-gb/p/itmeabd39a0cd669?pid...  \n",
              "1      3.0  /redmi-9a-midnight-black-32-gb/p/itmeabd39a0cd...  \n",
              "2      4.0  /redmi-9a-nature-green-32-gb/p/itmeabd39a0cd66...  \n",
              "3     None  /redmi-9-carbon-black-64-gb/p/itm4fb151383983b...  \n",
              "4     None  /redmi-9-sky-blue-64-gb/p/itm4fb151383983b?pid...  "
            ]
          },
          "execution_count": 10,
          "metadata": {},
          "output_type": "execute_result"
        }
      ],
      "source": [
        "items.head()"
      ]
    },
    {
      "cell_type": "code",
      "execution_count": null,
      "metadata": {
        "colab": {
          "base_uri": "https://localhost:8080/"
        },
        "id": "WP_zVQauY0NM",
        "outputId": "ea1cbc07-43fc-4bb6-ded6-f79d986c460a"
      },
      "outputs": [
        {
          "name": "stdout",
          "output_type": "stream",
          "text": [
            "<class 'pandas.core.frame.DataFrame'>\n",
            "RangeIndex: 82 entries, 0 to 81\n",
            "Data columns (total 9 columns):\n",
            " #   Column          Non-Null Count  Dtype \n",
            "---  ------          --------------  ----- \n",
            " 0   product_id      82 non-null     object\n",
            " 1   product_name    82 non-null     object\n",
            " 2   price           82 non-null     object\n",
            " 3   category        82 non-null     object\n",
            " 4   sub_category    82 non-null     object\n",
            " 5   specifications  82 non-null     object\n",
            " 6   ratings         82 non-null     object\n",
            " 7   discount        34 non-null     object\n",
            " 8   moreinfo        82 non-null     object\n",
            "dtypes: object(9)\n",
            "memory usage: 5.9+ KB\n"
          ]
        }
      ],
      "source": [
        "items.info()"
      ]
    },
    {
      "cell_type": "code",
      "execution_count": null,
      "metadata": {
        "colab": {
          "base_uri": "https://localhost:8080/"
        },
        "id": "8RA4YPj_Y0I6",
        "outputId": "85b7d4bb-064f-48fd-f183-2c2be0db262a"
      },
      "outputs": [
        {
          "name": "stdout",
          "output_type": "stream",
          "text": [
            "<class 'pandas.core.frame.DataFrame'>\n",
            "Int64Index: 53493 entries, 0 to 289\n",
            "Data columns (total 8 columns):\n",
            " #   Column      Non-Null Count  Dtype \n",
            "---  ------      --------------  ----- \n",
            " 0   product_id  53493 non-null  object\n",
            " 1   review_id   53493 non-null  object\n",
            " 2   title       53493 non-null  object\n",
            " 3   review      53493 non-null  object\n",
            " 4   likes       53493 non-null  object\n",
            " 5   dislikes    53493 non-null  object\n",
            " 6   ratings     48488 non-null  object\n",
            " 7   reviewer    53493 non-null  object\n",
            "dtypes: object(8)\n",
            "memory usage: 3.7+ MB\n"
          ]
        }
      ],
      "source": [
        "db = sqlite3.connect(\"flipkart_products.db\")\n",
        "\n",
        "df = pd.read_sql_query(\"SELECT * from ECMB000001\", db)\n",
        "\n",
        "for i in range(2, len(items) + 1):\n",
        "\n",
        "    df_temp = pd.read_sql_query(\"SELECT * from ECMB{:06d}\".format(i), db)\n",
        "    df = pd.concat([df, df_temp])\n",
        "con.close()\n",
        "df.info()"
      ]
    },
    {
      "cell_type": "code",
      "execution_count": 15,
      "metadata": {
        "colab": {
          "base_uri": "https://localhost:8080/",
          "height": 526
        },
        "id": "AjO5aK-tZ0vU",
        "outputId": "f04d7868-9f3b-4158-de66-8573befcfe31"
      },
      "outputs": [
        {
          "output_type": "display_data",
          "data": {
            "text/plain": [
              "<Figure size 2500x2000 with 0 Axes>"
            ]
          },
          "metadata": {}
        },
        {
          "output_type": "display_data",
          "data": {
            "text/plain": [
              "<Figure size 2500x1000 with 2 Axes>"
            ],
            "image/png": "[encoded data removed]"
          },
          "metadata": {}
        }
      ],
      "source": [
        "import missingno as msno\n",
        "plt.figure(figsize=(25, 20))\n",
        "msno.matrix(df, color=[0.2, 0.4, 1])\n",
        "plt.show()"
      ]
    },
    {
      "cell_type": "code",
      "execution_count": 16,
      "metadata": {
        "colab": {
          "base_uri": "https://localhost:8080/"
        },
        "id": "WW-J40XnaAji",
        "outputId": "c0c88139-6ff5-47e4-b652-19435ea5f057"
      },
      "outputs": [
        {
          "output_type": "stream",
          "name": "stdout",
          "text": [
            "<class 'pandas.core.frame.DataFrame'>\n",
            "Int64Index: 48488 entries, 0 to 287\n",
            "Data columns (total 8 columns):\n",
            " #   Column      Non-Null Count  Dtype \n",
            "---  ------      --------------  ----- \n",
            " 0   product_id  48488 non-null  object\n",
            " 1   review_id   48488 non-null  object\n",
            " 2   title       48488 non-null  object\n",
            " 3   review      48488 non-null  object\n",
            " 4   likes       48488 non-null  object\n",
            " 5   dislikes    48488 non-null  object\n",
            " 6   ratings     48488 non-null  object\n",
            " 7   reviewer    48488 non-null  object\n",
            "dtypes: object(8)\n",
            "memory usage: 3.3+ MB\n"
          ]
        }
      ],
      "source": [
        "# Dropping the rows with missing values\n",
        "\n",
        "df.dropna(inplace=True, axis=0)\n",
        "df.info()\n"
      ]
    },
    {
      "cell_type": "code",
      "source": [
        "import nltk\n",
        "nltk.download('stopwords')"
      ],
      "metadata": {
        "colab": {
          "base_uri": "https://localhost:8080/"
        },
        "id": "5mT_Cvl8zyv0",
        "outputId": "87a366a3-1d88-459f-b0fa-16776b35e202"
      },
      "execution_count": 7,
      "outputs": [
        {
          "output_type": "stream",
          "name": "stderr",
          "text": [
            "[nltk_data] Downloading package stopwords to /root/nltk_data...\n",
            "[nltk_data]   Unzipping corpora/stopwords.zip.\n"
          ]
        },
        {
          "output_type": "execute_result",
          "data": {
            "text/plain": [
              "True"
            ]
          },
          "metadata": {},
          "execution_count": 7
        }
      ]
    },
    {
      "cell_type": "markdown",
      "source": [
        "## Preprocessing the data"
      ],
      "metadata": {
        "id": "ZojYsTBvlD56"
      }
    },
    {
      "cell_type": "code",
      "execution_count": 13,
      "metadata": {
        "id": "GQqsnlRVaKi1"
      },
      "outputs": [],
      "source": [
        "def remove_url(text):\n",
        "    text = re.sub(r\"http\\S+\", \"\", text)\n",
        "    return text\n",
        "\n",
        "def remove_punctuation(text):\n",
        "  text = re.sub(r'[^\\w\\s]','',string)\n",
        "  text=re.sub(r'[0-9]','',text)\n",
        "  return text\n",
        "\n",
        "def handle_emoji(string):\n",
        "    emojis = demoji.findall(string)\n",
        "\n",
        "    for emoji in emojis:\n",
        "        string = string.replace(emoji, \" \" + emojis[emoji].split(\":\")[0])\n",
        "\n",
        "    return string\n",
        "\n",
        "en_stopwords = set(stopwords.words('english'))\n",
        "def remove_stopwords(text):\n",
        "    text = [word for word in text if word not in en_stopwords]\n",
        "    return text\n",
        "\n",
        "sp = spacy.load(\"en_core_web_sm\")\n",
        "def lemmatization(text):\n",
        "\n",
        "    # text = [sp(word).lemma_ for word in text]\n",
        "\n",
        "    text = \" \".join(text)\n",
        "    token = sp(text)\n",
        "\n",
        "    text = [word.lemma_ for word in token]\n",
        "    return text\n",
        "\n",
        "def word_tokenizer(text):\n",
        "    text = text.lower()\n",
        "    text = text.split()\n",
        "\n",
        "    return text"
      ]
    },
    {
      "cell_type": "code",
      "execution_count": 25,
      "metadata": {
        "id": "zPvVrNhsfA-O",
        "colab": {
          "base_uri": "https://localhost:8080/"
        },
        "outputId": "fad11b3e-3568-4108-de55-7470ee6379f4"
      },
      "outputs": [
        {
          "output_type": "stream",
          "name": "stderr",
          "text": [
            "100%|██████████| 48488/48488 [00:00<00:00, 369870.71it/s]\n"
          ]
        }
      ],
      "source": [
        "def label(y):\n",
        "    if y == '5' or y=='4':\n",
        "        return 1\n",
        "    else:\n",
        "        return 0\n",
        "\n",
        "from tqdm import tqdm\n",
        "\n",
        "tqdm.pandas()\n",
        "df_temp=df\n",
        "df_temp['y'] = df_temp.ratings.progress_map(label)\n"
      ]
    },
    {
      "cell_type": "code",
      "execution_count": 26,
      "metadata": {
        "id": "KNiXrVmWfHDv",
        "colab": {
          "base_uri": "https://localhost:8080/",
          "height": 206
        },
        "outputId": "94c3d03e-81ef-4e57-84dc-9caee776c75d"
      },
      "outputs": [
        {
          "output_type": "execute_result",
          "data": {
            "text/plain": [
              "                                              review  y ratings\n",
              "0  Wow superb I love it❤️👍 battery backup so nice 👍👍  1       5\n",
              "1  Mobile So Good In Range Redmi 9a Has Miui 12 L...  1       4\n",
              "2  Wonderful device and smart phone best camera b...  1       5\n",
              "3  Very good mobile. Value for money. Battery bac...  1       5\n",
              "4                Really great.... value for money...  1       5"
            ],
            "text/html": [
              "\n",
              "  <div id=\"df-e745bfbe-42eb-4ad7-b2e8-6286b9698a20\" class=\"colab-df-container\">\n",
              "    <div>\n",
              "<style scoped>\n",
              "    .dataframe tbody tr th:only-of-type {\n",
              "        vertical-align: middle;\n",
              "    }\n",
              "\n",
              "    .dataframe tbody tr th {\n",
              "        vertical-align: top;\n",
              "    }\n",
              "\n",
              "    .dataframe thead th {\n",
              "        text-align: right;\n",
              "    }\n",
              "</style>\n",
              "<table border=\"1\" class=\"dataframe\">\n",
              "  <thead>\n",
              "    <tr style=\"text-align: right;\">\n",
              "      <th></th>\n",
              "      <th>review</th>\n",
              "      <th>y</th>\n",
              "      <th>ratings</th>\n",
              "    </tr>\n",
              "  </thead>\n",
              "  <tbody>\n",
              "    <tr>\n",
              "      <th>0</th>\n",
              "      <td>Wow superb I love it❤️👍 battery backup so nice 👍👍</td>\n",
              "      <td>1</td>\n",
              "      <td>5</td>\n",
              "    </tr>\n",
              "    <tr>\n",
              "      <th>1</th>\n",
              "      <td>Mobile So Good In Range Redmi 9a Has Miui 12 L...</td>\n",
              "      <td>1</td>\n",
              "      <td>4</td>\n",
              "    </tr>\n",
              "    <tr>\n",
              "      <th>2</th>\n",
              "      <td>Wonderful device and smart phone best camera b...</td>\n",
              "      <td>1</td>\n",
              "      <td>5</td>\n",
              "    </tr>\n",
              "    <tr>\n",
              "      <th>3</th>\n",
              "      <td>Very good mobile. Value for money. Battery bac...</td>\n",
              "      <td>1</td>\n",
              "      <td>5</td>\n",
              "    </tr>\n",
              "    <tr>\n",
              "      <th>4</th>\n",
              "      <td>Really great.... value for money...</td>\n",
              "      <td>1</td>\n",
              "      <td>5</td>\n",
              "    </tr>\n",
              "  </tbody>\n",
              "</table>\n",
              "</div>\n",
              "    <div class=\"colab-df-buttons\">\n",
              "\n",
              "  <div class=\"colab-df-container\">\n",
              "    <button class=\"colab-df-convert\" onclick=\"convertToInteractive('df-e745bfbe-42eb-4ad7-b2e8-6286b9698a20')\"\n",
              "            title=\"Convert this dataframe to an interactive table.\"\n",
              "            style=\"display:none;\">\n",
              "\n",
              "  <svg xmlns=\"http://www.w3.org/2000/svg\" height=\"24px\" viewBox=\"0 -960 960 960\">\n",
              "    <path d=\"M120-120v-720h720v720H120Zm60-500h600v-160H180v160Zm220 220h160v-160H400v160Zm0 220h160v-160H400v160ZM180-400h160v-160H180v160Zm440 0h160v-160H620v160ZM180-180h160v-160H180v160Zm440 0h160v-160H620v160Z\"/>\n",
              "  </svg>\n",
              "    </button>\n",
              "\n",
              "  <style>\n",
              "    .colab-df-container {\n",
              "      display:flex;\n",
              "      gap: 12px;\n",
              "    }\n",
              "\n",
              "    .colab-df-convert {\n",
              "      background-color: #E8F0FE;\n",
              "      border: none;\n",
              "      border-radius: 50%;\n",
              "      cursor: pointer;\n",
              "      display: none;\n",
              "      fill: #1967D2;\n",
              "      height: 32px;\n",
              "      padding: 0 0 0 0;\n",
              "      width: 32px;\n",
              "    }\n",
              "\n",
              "    .colab-df-convert:hover {\n",
              "      background-color: #E2EBFA;\n",
              "      box-shadow: 0px 1px 2px rgba(60, 64, 67, 0.3), 0px 1px 3px 1px rgba(60, 64, 67, 0.15);\n",
              "      fill: #174EA6;\n",
              "    }\n",
              "\n",
              "    .colab-df-buttons div {\n",
              "      margin-bottom: 4px;\n",
              "    }\n",
              "\n",
              "    [theme=dark] .colab-df-convert {\n",
              "      background-color: #3B4455;\n",
              "      fill: #D2E3FC;\n",
              "    }\n",
              "\n",
              "    [theme=dark] .colab-df-convert:hover {\n",
              "      background-color: #434B5C;\n",
              "      box-shadow: 0px 1px 3px 1px rgba(0, 0, 0, 0.15);\n",
              "      filter: drop-shadow(0px 1px 2px rgba(0, 0, 0, 0.3));\n",
              "      fill: #FFFFFF;\n",
              "    }\n",
              "  </style>\n",
              "\n",
              "    <script>\n",
              "      const buttonEl =\n",
              "        document.querySelector('#df-e745bfbe-42eb-4ad7-b2e8-6286b9698a20 button.colab-df-convert');\n",
              "      buttonEl.style.display =\n",
              "        google.colab.kernel.accessAllowed ? 'block' : 'none';\n",
              "\n",
              "      async function convertToInteractive(key) {\n",
              "        const element = document.querySelector('#df-e745bfbe-42eb-4ad7-b2e8-6286b9698a20');\n",
              "        const dataTable =\n",
              "          await google.colab.kernel.invokeFunction('convertToInteractive',\n",
              "                                                    [key], {});\n",
              "        if (!dataTable) return;\n",
              "\n",
              "        const docLinkHtml = 'Like what you see? Visit the ' +\n",
              "          '<a target=\"_blank\" href=https://colab.research.google.com/notebooks/data_table.ipynb>data table notebook</a>'\n",
              "          + ' to learn more about interactive tables.';\n",
              "        element.innerHTML = '';\n",
              "        dataTable['output_type'] = 'display_data';\n",
              "        await google.colab.output.renderOutput(dataTable, element);\n",
              "        const docLink = document.createElement('div');\n",
              "        docLink.innerHTML = docLinkHtml;\n",
              "        element.appendChild(docLink);\n",
              "      }\n",
              "    </script>\n",
              "  </div>\n",
              "\n",
              "\n",
              "<div id=\"df-c8fc8f41-0912-47ac-bece-786185b9991f\">\n",
              "  <button class=\"colab-df-quickchart\" onclick=\"quickchart('df-c8fc8f41-0912-47ac-bece-786185b9991f')\"\n",
              "            title=\"Suggest charts\"\n",
              "            style=\"display:none;\">\n",
              "\n",
              "<svg xmlns=\"http://www.w3.org/2000/svg\" height=\"24px\"viewBox=\"0 0 24 24\"\n",
              "     width=\"24px\">\n",
              "    <g>\n",
              "        <path d=\"M19 3H5c-1.1 0-2 .9-2 2v14c0 1.1.9 2 2 2h14c1.1 0 2-.9 2-2V5c0-1.1-.9-2-2-2zM9 17H7v-7h2v7zm4 0h-2V7h2v10zm4 0h-2v-4h2v4z\"/>\n",
              "    </g>\n",
              "</svg>\n",
              "  </button>\n",
              "\n",
              "<style>\n",
              "  .colab-df-quickchart {\n",
              "      --bg-color: #E8F0FE;\n",
              "      --fill-color: #1967D2;\n",
              "      --hover-bg-color: #E2EBFA;\n",
              "      --hover-fill-color: #174EA6;\n",
              "      --disabled-fill-color: #AAA;\n",
              "      --disabled-bg-color: #DDD;\n",
              "  }\n",
              "\n",
              "  [theme=dark] .colab-df-quickchart {\n",
              "      --bg-color: #3B4455;\n",
              "      --fill-color: #D2E3FC;\n",
              "      --hover-bg-color: #434B5C;\n",
              "      --hover-fill-color: #FFFFFF;\n",
              "      --disabled-bg-color: #3B4455;\n",
              "      --disabled-fill-color: #666;\n",
              "  }\n",
              "\n",
              "  .colab-df-quickchart {\n",
              "    background-color: var(--bg-color);\n",
              "    border: none;\n",
              "    border-radius: 50%;\n",
              "    cursor: pointer;\n",
              "    display: none;\n",
              "    fill: var(--fill-color);\n",
              "    height: 32px;\n",
              "    padding: 0;\n",
              "    width: 32px;\n",
              "  }\n",
              "\n",
              "  .colab-df-quickchart:hover {\n",
              "    background-color: var(--hover-bg-color);\n",
              "    box-shadow: 0 1px 2px rgba(60, 64, 67, 0.3), 0 1px 3px 1px rgba(60, 64, 67, 0.15);\n",
              "    fill: var(--button-hover-fill-color);\n",
              "  }\n",
              "\n",
              "  .colab-df-quickchart-complete:disabled,\n",
              "  .colab-df-quickchart-complete:disabled:hover {\n",
              "    background-color: var(--disabled-bg-color);\n",
              "    fill: var(--disabled-fill-color);\n",
              "    box-shadow: none;\n",
              "  }\n",
              "\n",
              "  .colab-df-spinner {\n",
              "    border: 2px solid var(--fill-color);\n",
              "    border-color: transparent;\n",
              "    border-bottom-color: var(--fill-color);\n",
              "    animation:\n",
              "      spin 1s steps(1) infinite;\n",
              "  }\n",
              "\n",
              "  @keyframes spin {\n",
              "    0% {\n",
              "      border-color: transparent;\n",
              "      border-bottom-color: var(--fill-color);\n",
              "      border-left-color: var(--fill-color);\n",
              "    }\n",
              "    20% {\n",
              "      border-color: transparent;\n",
              "      border-left-color: var(--fill-color);\n",
              "      border-top-color: var(--fill-color);\n",
              "    }\n",
              "    30% {\n",
              "      border-color: transparent;\n",
              "      border-left-color: var(--fill-color);\n",
              "      border-top-color: var(--fill-color);\n",
              "      border-right-color: var(--fill-color);\n",
              "    }\n",
              "    40% {\n",
              "      border-color: transparent;\n",
              "      border-right-color: var(--fill-color);\n",
              "      border-top-color: var(--fill-color);\n",
              "    }\n",
              "    60% {\n",
              "      border-color: transparent;\n",
              "      border-right-color: var(--fill-color);\n",
              "    }\n",
              "    80% {\n",
              "      border-color: transparent;\n",
              "      border-right-color: var(--fill-color);\n",
              "      border-bottom-color: var(--fill-color);\n",
              "    }\n",
              "    90% {\n",
              "      border-color: transparent;\n",
              "      border-bottom-color: var(--fill-color);\n",
              "    }\n",
              "  }\n",
              "</style>\n",
              "\n",
              "  <script>\n",
              "    async function quickchart(key) {\n",
              "      const quickchartButtonEl =\n",
              "        document.querySelector('#' + key + ' button');\n",
              "      quickchartButtonEl.disabled = true;  // To prevent multiple clicks.\n",
              "      quickchartButtonEl.classList.add('colab-df-spinner');\n",
              "      try {\n",
              "        const charts = await google.colab.kernel.invokeFunction(\n",
              "            'suggestCharts', [key], {});\n",
              "      } catch (error) {\n",
              "        console.error('Error during call to suggestCharts:', error);\n",
              "      }\n",
              "      quickchartButtonEl.classList.remove('colab-df-spinner');\n",
              "      quickchartButtonEl.classList.add('colab-df-quickchart-complete');\n",
              "    }\n",
              "    (() => {\n",
              "      let quickchartButtonEl =\n",
              "        document.querySelector('#df-c8fc8f41-0912-47ac-bece-786185b9991f button');\n",
              "      quickchartButtonEl.style.display =\n",
              "        google.colab.kernel.accessAllowed ? 'block' : 'none';\n",
              "    })();\n",
              "  </script>\n",
              "</div>\n",
              "    </div>\n",
              "  </div>\n"
            ]
          },
          "metadata": {},
          "execution_count": 26
        }
      ],
      "source": [
        "df_temp = df_temp[['review', 'y', 'ratings']]\n",
        "df_temp.head()"
      ]
    },
    {
      "cell_type": "code",
      "execution_count": 27,
      "metadata": {
        "id": "McyxTHBLfJoz",
        "colab": {
          "base_uri": "https://localhost:8080/"
        },
        "outputId": "590413fc-b016-4ff2-bf1d-493d7c1b1a9d"
      },
      "outputs": [
        {
          "output_type": "execute_result",
          "data": {
            "text/plain": [
              "1    44751\n",
              "0     3737\n",
              "Name: y, dtype: int64"
            ]
          },
          "metadata": {},
          "execution_count": 27
        }
      ],
      "source": [
        "df_temp.y.value_counts()"
      ]
    },
    {
      "cell_type": "markdown",
      "source": [
        "## Data Augmentation"
      ],
      "metadata": {
        "id": "31HF7W-ElYw2"
      }
    },
    {
      "cell_type": "code",
      "execution_count": 28,
      "metadata": {
        "id": "51RGsFeWfJk7",
        "colab": {
          "base_uri": "https://localhost:8080/"
        },
        "outputId": "ebde1ad5-836b-4056-84cc-0b426ccd85b1"
      },
      "outputs": [
        {
          "output_type": "execute_result",
          "data": {
            "text/plain": [
              "4803"
            ]
          },
          "metadata": {},
          "execution_count": 28
        }
      ],
      "source": [
        "df_temp2 = df_temp[(df_temp['ratings'] == '5')]\n",
        "positive = list(df_temp2[(df_temp2['review'].str.len() > 100) & (df_temp2['review'].str.len() < 350)]['review'])\n",
        "len(positive)"
      ]
    },
    {
      "cell_type": "code",
      "execution_count": 29,
      "metadata": {
        "id": "HUPHGJgjfrD1",
        "colab": {
          "base_uri": "https://localhost:8080/"
        },
        "outputId": "fd77657d-1d3b-4f82-d7cc-17292686d86f"
      },
      "outputs": [
        {
          "output_type": "stream",
          "name": "stderr",
          "text": [
            "[nltk_data] Downloading package wordnet to /root/nltk_data...\n",
            "[nltk_data] Downloading package omw-1.4 to /root/nltk_data...\n",
            "[nltk_data] Downloading package averaged_perceptron_tagger to\n",
            "[nltk_data]     /root/nltk_data...\n",
            "[nltk_data]   Unzipping taggers/averaged_perceptron_tagger.zip.\n"
          ]
        },
        {
          "output_type": "execute_result",
          "data": {
            "text/plain": [
              "4803"
            ]
          },
          "metadata": {},
          "execution_count": 29
        }
      ],
      "source": [
        "aug = naw.AntonymAug(name='Antonym_Aug', aug_min=1, aug_max=10, aug_p=0.3, lang='eng', stopwords=en_stopwords, tokenizer=None,\n",
        "                     reverse_tokenizer=None, stopwords_regex=None, verbose=0)\n",
        "\n",
        "aug_negative = aug.augment(positive)\n",
        "len(aug_negative)"
      ]
    },
    {
      "cell_type": "code",
      "execution_count": 30,
      "metadata": {
        "id": "tgHFXcswgBA-"
      },
      "outputs": [],
      "source": [
        "df_negative = pd.DataFrame({\"review\" : aug_negative, 'y' : [0]*len(aug_negative)})\n",
        "df_positive = pd.DataFrame({\"review\" : positive, 'y' : [1]*len(positive)})"
      ]
    },
    {
      "cell_type": "code",
      "execution_count": 31,
      "metadata": {
        "id": "sRx-kj6wgA8X",
        "colab": {
          "base_uri": "https://localhost:8080/"
        },
        "outputId": "f80827c9-4821-494a-c854-af14983be8e1"
      },
      "outputs": [
        {
          "output_type": "stream",
          "name": "stdout",
          "text": [
            "<class 'pandas.core.frame.DataFrame'>\n",
            "RangeIndex: 9606 entries, 0 to 9605\n",
            "Data columns (total 2 columns):\n",
            " #   Column  Non-Null Count  Dtype \n",
            "---  ------  --------------  ----- \n",
            " 0   review  9606 non-null   object\n",
            " 1   y       9606 non-null   int64 \n",
            "dtypes: int64(1), object(1)\n",
            "memory usage: 150.2+ KB\n"
          ]
        }
      ],
      "source": [
        "df_temp = pd.concat([df_negative, df_positive]).sample(frac = 1, random_state = 11).reset_index(drop=True)\n",
        "df_temp.info()\n",
        "df_temp.head()\n",
        "df = df_temp"
      ]
    },
    {
      "cell_type": "code",
      "execution_count": 32,
      "metadata": {
        "id": "anoZ79UhgS5s"
      },
      "outputs": [],
      "source": [
        "def preprocessing(text):\n",
        "\n",
        "    text = remove_url(text)\n",
        "    text = uni.normalize('NFKD', text)\n",
        "    text = handle_emoji(text)\n",
        "    text = text.lower()\n",
        "    text = re.sub(r'[^\\w\\s]', '', text)\n",
        "    text = word_tokenizer(text)\n",
        "    text = lemmatization(text)\n",
        "    text = remove_stopwords(text)\n",
        "    text = \" \".join(text)\n",
        "\n",
        "    return text"
      ]
    },
    {
      "cell_type": "code",
      "source": [
        "!pip install uni"
      ],
      "metadata": {
        "colab": {
          "base_uri": "https://localhost:8080/"
        },
        "id": "EjG_kPjQ02ea",
        "outputId": "15831606-38bc-42ad-9b62-5431fbb3bc27"
      },
      "execution_count": 35,
      "outputs": [
        {
          "output_type": "stream",
          "name": "stdout",
          "text": [
            "Collecting uni\n",
            "  Downloading uni-0.1.tar.gz (4.0 kB)\n",
            "  Preparing metadata (setup.py) ... \u001b[?25l\u001b[?25hdone\n",
            "Collecting nmmd (from uni)\n",
            "  Downloading nmmd-0.0.3-py2.py3-none-any.whl (7.1 kB)\n",
            "Collecting hercules (from nmmd->uni)\n",
            "  Downloading hercules-0.0-py2.py3-none-any.whl (11 kB)\n",
            "Building wheels for collected packages: uni\n",
            "  Building wheel for uni (setup.py) ... \u001b[?25l\u001b[?25hdone\n",
            "  Created wheel for uni: filename=uni-0.1-py2.py3-none-any.whl size=4648 sha256=a49095715280e32726818ea68103310b72188fb22ae782daf62bedbf7087a160\n",
            "  Stored in directory: /root/.cache/pip/wheels/98/af/f1/564ccc612038d0d813c657d91133d221faa4e1e7ed0a7cf60e\n",
            "Successfully built uni\n",
            "Installing collected packages: hercules, nmmd, uni\n",
            "Successfully installed hercules-0.0 nmmd-0.0.3 uni-0.1\n"
          ]
        }
      ]
    },
    {
      "cell_type": "code",
      "execution_count": 37,
      "metadata": {
        "id": "6B9zBSJbgS18",
        "colab": {
          "base_uri": "https://localhost:8080/",
          "height": 223
        },
        "outputId": "743df5b3-086e-4f41-82af-a772fe3e74e9"
      },
      "outputs": [
        {
          "output_type": "stream",
          "name": "stderr",
          "text": [
            "100%|██████████| 9606/9606 [02:05<00:00, 76.48it/s]\n"
          ]
        },
        {
          "output_type": "execute_result",
          "data": {
            "text/plain": [
              "                                              review  y  \\\n",
              "0  great phone in budget. .. pubg performance was...  0   \n",
              "1  Best Smartphone by Mi in this Range. . come fo...  0   \n",
              "2  Evil smooth phone. . and back camera quality i...  0   \n",
              "3  Thise is very nice mobile ...I like it very mu...  1   \n",
              "4  I m meagerly dissatisfy 👍 All section r superb...  0   \n",
              "\n",
              "                                        clean_review  \n",
              "0  great phone budget pubg performance rough came...  \n",
              "1  well smartphone mi range come r confuse samsun...  \n",
              "2  evil smooth phone back camera quality evil rea...  \n",
              "3  thise nice mobile I like much delivery also fa...  \n",
              "4  I meagerly dissatisfy thumb section r superb d...  "
            ],
            "text/html": [
              "\n",
              "  <div id=\"df-04ed286f-6395-4aca-b1a5-9af6c6ff113a\" class=\"colab-df-container\">\n",
              "    <div>\n",
              "<style scoped>\n",
              "    .dataframe tbody tr th:only-of-type {\n",
              "        vertical-align: middle;\n",
              "    }\n",
              "\n",
              "    .dataframe tbody tr th {\n",
              "        vertical-align: top;\n",
              "    }\n",
              "\n",
              "    .dataframe thead th {\n",
              "        text-align: right;\n",
              "    }\n",
              "</style>\n",
              "<table border=\"1\" class=\"dataframe\">\n",
              "  <thead>\n",
              "    <tr style=\"text-align: right;\">\n",
              "      <th></th>\n",
              "      <th>review</th>\n",
              "      <th>y</th>\n",
              "      <th>clean_review</th>\n",
              "    </tr>\n",
              "  </thead>\n",
              "  <tbody>\n",
              "    <tr>\n",
              "      <th>0</th>\n",
              "      <td>great phone in budget. .. pubg performance was...</td>\n",
              "      <td>0</td>\n",
              "      <td>great phone budget pubg performance rough came...</td>\n",
              "    </tr>\n",
              "    <tr>\n",
              "      <th>1</th>\n",
              "      <td>Best Smartphone by Mi in this Range. . come fo...</td>\n",
              "      <td>0</td>\n",
              "      <td>well smartphone mi range come r confuse samsun...</td>\n",
              "    </tr>\n",
              "    <tr>\n",
              "      <th>2</th>\n",
              "      <td>Evil smooth phone. . and back camera quality i...</td>\n",
              "      <td>0</td>\n",
              "      <td>evil smooth phone back camera quality evil rea...</td>\n",
              "    </tr>\n",
              "    <tr>\n",
              "      <th>3</th>\n",
              "      <td>Thise is very nice mobile ...I like it very mu...</td>\n",
              "      <td>1</td>\n",
              "      <td>thise nice mobile I like much delivery also fa...</td>\n",
              "    </tr>\n",
              "    <tr>\n",
              "      <th>4</th>\n",
              "      <td>I m meagerly dissatisfy 👍 All section r superb...</td>\n",
              "      <td>0</td>\n",
              "      <td>I meagerly dissatisfy thumb section r superb d...</td>\n",
              "    </tr>\n",
              "  </tbody>\n",
              "</table>\n",
              "</div>\n",
              "    <div class=\"colab-df-buttons\">\n",
              "\n",
              "  <div class=\"colab-df-container\">\n",
              "    <button class=\"colab-df-convert\" onclick=\"convertToInteractive('df-04ed286f-6395-4aca-b1a5-9af6c6ff113a')\"\n",
              "            title=\"Convert this dataframe to an interactive table.\"\n",
              "            style=\"display:none;\">\n",
              "\n",
              "  <svg xmlns=\"http://www.w3.org/2000/svg\" height=\"24px\" viewBox=\"0 -960 960 960\">\n",
              "    <path d=\"M120-120v-720h720v720H120Zm60-500h600v-160H180v160Zm220 220h160v-160H400v160Zm0 220h160v-160H400v160ZM180-400h160v-160H180v160Zm440 0h160v-160H620v160ZM180-180h160v-160H180v160Zm440 0h160v-160H620v160Z\"/>\n",
              "  </svg>\n",
              "    </button>\n",
              "\n",
              "  <style>\n",
              "    .colab-df-container {\n",
              "      display:flex;\n",
              "      gap: 12px;\n",
              "    }\n",
              "\n",
              "    .colab-df-convert {\n",
              "      background-color: #E8F0FE;\n",
              "      border: none;\n",
              "      border-radius: 50%;\n",
              "      cursor: pointer;\n",
              "      display: none;\n",
              "      fill: #1967D2;\n",
              "      height: 32px;\n",
              "      padding: 0 0 0 0;\n",
              "      width: 32px;\n",
              "    }\n",
              "\n",
              "    .colab-df-convert:hover {\n",
              "      background-color: #E2EBFA;\n",
              "      box-shadow: 0px 1px 2px rgba(60, 64, 67, 0.3), 0px 1px 3px 1px rgba(60, 64, 67, 0.15);\n",
              "      fill: #174EA6;\n",
              "    }\n",
              "\n",
              "    .colab-df-buttons div {\n",
              "      margin-bottom: 4px;\n",
              "    }\n",
              "\n",
              "    [theme=dark] .colab-df-convert {\n",
              "      background-color: #3B4455;\n",
              "      fill: #D2E3FC;\n",
              "    }\n",
              "\n",
              "    [theme=dark] .colab-df-convert:hover {\n",
              "      background-color: #434B5C;\n",
              "      box-shadow: 0px 1px 3px 1px rgba(0, 0, 0, 0.15);\n",
              "      filter: drop-shadow(0px 1px 2px rgba(0, 0, 0, 0.3));\n",
              "      fill: #FFFFFF;\n",
              "    }\n",
              "  </style>\n",
              "\n",
              "    <script>\n",
              "      const buttonEl =\n",
              "        document.querySelector('#df-04ed286f-6395-4aca-b1a5-9af6c6ff113a button.colab-df-convert');\n",
              "      buttonEl.style.display =\n",
              "        google.colab.kernel.accessAllowed ? 'block' : 'none';\n",
              "\n",
              "      async function convertToInteractive(key) {\n",
              "        const element = document.querySelector('#df-04ed286f-6395-4aca-b1a5-9af6c6ff113a');\n",
              "        const dataTable =\n",
              "          await google.colab.kernel.invokeFunction('convertToInteractive',\n",
              "                                                    [key], {});\n",
              "        if (!dataTable) return;\n",
              "\n",
              "        const docLinkHtml = 'Like what you see? Visit the ' +\n",
              "          '<a target=\"_blank\" href=https://colab.research.google.com/notebooks/data_table.ipynb>data table notebook</a>'\n",
              "          + ' to learn more about interactive tables.';\n",
              "        element.innerHTML = '';\n",
              "        dataTable['output_type'] = 'display_data';\n",
              "        await google.colab.output.renderOutput(dataTable, element);\n",
              "        const docLink = document.createElement('div');\n",
              "        docLink.innerHTML = docLinkHtml;\n",
              "        element.appendChild(docLink);\n",
              "      }\n",
              "    </script>\n",
              "  </div>\n",
              "\n",
              "\n",
              "<div id=\"df-3ee1aa7d-8598-4a45-9c5b-206ea8082cf0\">\n",
              "  <button class=\"colab-df-quickchart\" onclick=\"quickchart('df-3ee1aa7d-8598-4a45-9c5b-206ea8082cf0')\"\n",
              "            title=\"Suggest charts\"\n",
              "            style=\"display:none;\">\n",
              "\n",
              "<svg xmlns=\"http://www.w3.org/2000/svg\" height=\"24px\"viewBox=\"0 0 24 24\"\n",
              "     width=\"24px\">\n",
              "    <g>\n",
              "        <path d=\"M19 3H5c-1.1 0-2 .9-2 2v14c0 1.1.9 2 2 2h14c1.1 0 2-.9 2-2V5c0-1.1-.9-2-2-2zM9 17H7v-7h2v7zm4 0h-2V7h2v10zm4 0h-2v-4h2v4z\"/>\n",
              "    </g>\n",
              "</svg>\n",
              "  </button>\n",
              "\n",
              "<style>\n",
              "  .colab-df-quickchart {\n",
              "      --bg-color: #E8F0FE;\n",
              "      --fill-color: #1967D2;\n",
              "      --hover-bg-color: #E2EBFA;\n",
              "      --hover-fill-color: #174EA6;\n",
              "      --disabled-fill-color: #AAA;\n",
              "      --disabled-bg-color: #DDD;\n",
              "  }\n",
              "\n",
              "  [theme=dark] .colab-df-quickchart {\n",
              "      --bg-color: #3B4455;\n",
              "      --fill-color: #D2E3FC;\n",
              "      --hover-bg-color: #434B5C;\n",
              "      --hover-fill-color: #FFFFFF;\n",
              "      --disabled-bg-color: #3B4455;\n",
              "      --disabled-fill-color: #666;\n",
              "  }\n",
              "\n",
              "  .colab-df-quickchart {\n",
              "    background-color: var(--bg-color);\n",
              "    border: none;\n",
              "    border-radius: 50%;\n",
              "    cursor: pointer;\n",
              "    display: none;\n",
              "    fill: var(--fill-color);\n",
              "    height: 32px;\n",
              "    padding: 0;\n",
              "    width: 32px;\n",
              "  }\n",
              "\n",
              "  .colab-df-quickchart:hover {\n",
              "    background-color: var(--hover-bg-color);\n",
              "    box-shadow: 0 1px 2px rgba(60, 64, 67, 0.3), 0 1px 3px 1px rgba(60, 64, 67, 0.15);\n",
              "    fill: var(--button-hover-fill-color);\n",
              "  }\n",
              "\n",
              "  .colab-df-quickchart-complete:disabled,\n",
              "  .colab-df-quickchart-complete:disabled:hover {\n",
              "    background-color: var(--disabled-bg-color);\n",
              "    fill: var(--disabled-fill-color);\n",
              "    box-shadow: none;\n",
              "  }\n",
              "\n",
              "  .colab-df-spinner {\n",
              "    border: 2px solid var(--fill-color);\n",
              "    border-color: transparent;\n",
              "    border-bottom-color: var(--fill-color);\n",
              "    animation:\n",
              "      spin 1s steps(1) infinite;\n",
              "  }\n",
              "\n",
              "  @keyframes spin {\n",
              "    0% {\n",
              "      border-color: transparent;\n",
              "      border-bottom-color: var(--fill-color);\n",
              "      border-left-color: var(--fill-color);\n",
              "    }\n",
              "    20% {\n",
              "      border-color: transparent;\n",
              "      border-left-color: var(--fill-color);\n",
              "      border-top-color: var(--fill-color);\n",
              "    }\n",
              "    30% {\n",
              "      border-color: transparent;\n",
              "      border-left-color: var(--fill-color);\n",
              "      border-top-color: var(--fill-color);\n",
              "      border-right-color: var(--fill-color);\n",
              "    }\n",
              "    40% {\n",
              "      border-color: transparent;\n",
              "      border-right-color: var(--fill-color);\n",
              "      border-top-color: var(--fill-color);\n",
              "    }\n",
              "    60% {\n",
              "      border-color: transparent;\n",
              "      border-right-color: var(--fill-color);\n",
              "    }\n",
              "    80% {\n",
              "      border-color: transparent;\n",
              "      border-right-color: var(--fill-color);\n",
              "      border-bottom-color: var(--fill-color);\n",
              "    }\n",
              "    90% {\n",
              "      border-color: transparent;\n",
              "      border-bottom-color: var(--fill-color);\n",
              "    }\n",
              "  }\n",
              "</style>\n",
              "\n",
              "  <script>\n",
              "    async function quickchart(key) {\n",
              "      const quickchartButtonEl =\n",
              "        document.querySelector('#' + key + ' button');\n",
              "      quickchartButtonEl.disabled = true;  // To prevent multiple clicks.\n",
              "      quickchartButtonEl.classList.add('colab-df-spinner');\n",
              "      try {\n",
              "        const charts = await google.colab.kernel.invokeFunction(\n",
              "            'suggestCharts', [key], {});\n",
              "      } catch (error) {\n",
              "        console.error('Error during call to suggestCharts:', error);\n",
              "      }\n",
              "      quickchartButtonEl.classList.remove('colab-df-spinner');\n",
              "      quickchartButtonEl.classList.add('colab-df-quickchart-complete');\n",
              "    }\n",
              "    (() => {\n",
              "      let quickchartButtonEl =\n",
              "        document.querySelector('#df-3ee1aa7d-8598-4a45-9c5b-206ea8082cf0 button');\n",
              "      quickchartButtonEl.style.display =\n",
              "        google.colab.kernel.accessAllowed ? 'block' : 'none';\n",
              "    })();\n",
              "  </script>\n",
              "</div>\n",
              "    </div>\n",
              "  </div>\n"
            ]
          },
          "metadata": {},
          "execution_count": 37
        }
      ],
      "source": [
        "from tqdm import tqdm\n",
        "\n",
        "tqdm.pandas()\n",
        "\n",
        "import unicodedata as uni\n",
        "\n",
        "df['clean_review'] = df['review'].progress_map(preprocessing)\n",
        "df.head()"
      ]
    },
    {
      "cell_type": "code",
      "execution_count": 38,
      "metadata": {
        "id": "QB4QWUjukqrl"
      },
      "outputs": [],
      "source": [
        "reviews = df.clean_review.values.tolist()"
      ]
    },
    {
      "cell_type": "code",
      "execution_count": 39,
      "metadata": {
        "id": "Hs7NsIlQkqnw",
        "colab": {
          "base_uri": "https://localhost:8080/",
          "height": 223
        },
        "outputId": "f2ccf8a6-233c-42e3-badd-b27724ac0d75"
      },
      "outputs": [
        {
          "output_type": "stream",
          "name": "stderr",
          "text": [
            "100%|██████████| 9606/9606 [00:00<00:00, 266541.97it/s]\n"
          ]
        },
        {
          "output_type": "execute_result",
          "data": {
            "text/plain": [
              "                                              review  y  \\\n",
              "0  great phone in budget. .. pubg performance was...  0   \n",
              "1  Best Smartphone by Mi in this Range. . come fo...  0   \n",
              "2  Evil smooth phone. . and back camera quality i...  0   \n",
              "3  Thise is very nice mobile ...I like it very mu...  1   \n",
              "4  I m meagerly dissatisfy 👍 All section r superb...  0   \n",
              "\n",
              "                                        clean_review  \\\n",
              "0  great phone budget pubg performance rough came...   \n",
              "1  well smartphone mi range come r confuse samsun...   \n",
              "2  evil smooth phone back camera quality evil rea...   \n",
              "3  thise nice mobile I like much delivery also fa...   \n",
              "4  I meagerly dissatisfy thumb section r superb d...   \n",
              "\n",
              "                                       clean_review2  \n",
              "0  [great, phone, budget, pubg, performance, roug...  \n",
              "1  [well, smartphone, mi, range, come, r, confuse...  \n",
              "2  [evil, smooth, phone, back, camera, quality, e...  \n",
              "3  [thise, nice, mobile, i, like, much, delivery,...  \n",
              "4  [i, meagerly, dissatisfy, thumb, section, r, s...  "
            ],
            "text/html": [
              "\n",
              "  <div id=\"df-001cc36f-61a9-48f4-831b-ef4860d796fa\" class=\"colab-df-container\">\n",
              "    <div>\n",
              "<style scoped>\n",
              "    .dataframe tbody tr th:only-of-type {\n",
              "        vertical-align: middle;\n",
              "    }\n",
              "\n",
              "    .dataframe tbody tr th {\n",
              "        vertical-align: top;\n",
              "    }\n",
              "\n",
              "    .dataframe thead th {\n",
              "        text-align: right;\n",
              "    }\n",
              "</style>\n",
              "<table border=\"1\" class=\"dataframe\">\n",
              "  <thead>\n",
              "    <tr style=\"text-align: right;\">\n",
              "      <th></th>\n",
              "      <th>review</th>\n",
              "      <th>y</th>\n",
              "      <th>clean_review</th>\n",
              "      <th>clean_review2</th>\n",
              "    </tr>\n",
              "  </thead>\n",
              "  <tbody>\n",
              "    <tr>\n",
              "      <th>0</th>\n",
              "      <td>great phone in budget. .. pubg performance was...</td>\n",
              "      <td>0</td>\n",
              "      <td>great phone budget pubg performance rough came...</td>\n",
              "      <td>[great, phone, budget, pubg, performance, roug...</td>\n",
              "    </tr>\n",
              "    <tr>\n",
              "      <th>1</th>\n",
              "      <td>Best Smartphone by Mi in this Range. . come fo...</td>\n",
              "      <td>0</td>\n",
              "      <td>well smartphone mi range come r confuse samsun...</td>\n",
              "      <td>[well, smartphone, mi, range, come, r, confuse...</td>\n",
              "    </tr>\n",
              "    <tr>\n",
              "      <th>2</th>\n",
              "      <td>Evil smooth phone. . and back camera quality i...</td>\n",
              "      <td>0</td>\n",
              "      <td>evil smooth phone back camera quality evil rea...</td>\n",
              "      <td>[evil, smooth, phone, back, camera, quality, e...</td>\n",
              "    </tr>\n",
              "    <tr>\n",
              "      <th>3</th>\n",
              "      <td>Thise is very nice mobile ...I like it very mu...</td>\n",
              "      <td>1</td>\n",
              "      <td>thise nice mobile I like much delivery also fa...</td>\n",
              "      <td>[thise, nice, mobile, i, like, much, delivery,...</td>\n",
              "    </tr>\n",
              "    <tr>\n",
              "      <th>4</th>\n",
              "      <td>I m meagerly dissatisfy 👍 All section r superb...</td>\n",
              "      <td>0</td>\n",
              "      <td>I meagerly dissatisfy thumb section r superb d...</td>\n",
              "      <td>[i, meagerly, dissatisfy, thumb, section, r, s...</td>\n",
              "    </tr>\n",
              "  </tbody>\n",
              "</table>\n",
              "</div>\n",
              "    <div class=\"colab-df-buttons\">\n",
              "\n",
              "  <div class=\"colab-df-container\">\n",
              "    <button class=\"colab-df-convert\" onclick=\"convertToInteractive('df-001cc36f-61a9-48f4-831b-ef4860d796fa')\"\n",
              "            title=\"Convert this dataframe to an interactive table.\"\n",
              "            style=\"display:none;\">\n",
              "\n",
              "  <svg xmlns=\"http://www.w3.org/2000/svg\" height=\"24px\" viewBox=\"0 -960 960 960\">\n",
              "    <path d=\"M120-120v-720h720v720H120Zm60-500h600v-160H180v160Zm220 220h160v-160H400v160Zm0 220h160v-160H400v160ZM180-400h160v-160H180v160Zm440 0h160v-160H620v160ZM180-180h160v-160H180v160Zm440 0h160v-160H620v160Z\"/>\n",
              "  </svg>\n",
              "    </button>\n",
              "\n",
              "  <style>\n",
              "    .colab-df-container {\n",
              "      display:flex;\n",
              "      gap: 12px;\n",
              "    }\n",
              "\n",
              "    .colab-df-convert {\n",
              "      background-color: #E8F0FE;\n",
              "      border: none;\n",
              "      border-radius: 50%;\n",
              "      cursor: pointer;\n",
              "      display: none;\n",
              "      fill: #1967D2;\n",
              "      height: 32px;\n",
              "      padding: 0 0 0 0;\n",
              "      width: 32px;\n",
              "    }\n",
              "\n",
              "    .colab-df-convert:hover {\n",
              "      background-color: #E2EBFA;\n",
              "      box-shadow: 0px 1px 2px rgba(60, 64, 67, 0.3), 0px 1px 3px 1px rgba(60, 64, 67, 0.15);\n",
              "      fill: #174EA6;\n",
              "    }\n",
              "\n",
              "    .colab-df-buttons div {\n",
              "      margin-bottom: 4px;\n",
              "    }\n",
              "\n",
              "    [theme=dark] .colab-df-convert {\n",
              "      background-color: #3B4455;\n",
              "      fill: #D2E3FC;\n",
              "    }\n",
              "\n",
              "    [theme=dark] .colab-df-convert:hover {\n",
              "      background-color: #434B5C;\n",
              "      box-shadow: 0px 1px 3px 1px rgba(0, 0, 0, 0.15);\n",
              "      filter: drop-shadow(0px 1px 2px rgba(0, 0, 0, 0.3));\n",
              "      fill: #FFFFFF;\n",
              "    }\n",
              "  </style>\n",
              "\n",
              "    <script>\n",
              "      const buttonEl =\n",
              "        document.querySelector('#df-001cc36f-61a9-48f4-831b-ef4860d796fa button.colab-df-convert');\n",
              "      buttonEl.style.display =\n",
              "        google.colab.kernel.accessAllowed ? 'block' : 'none';\n",
              "\n",
              "      async function convertToInteractive(key) {\n",
              "        const element = document.querySelector('#df-001cc36f-61a9-48f4-831b-ef4860d796fa');\n",
              "        const dataTable =\n",
              "          await google.colab.kernel.invokeFunction('convertToInteractive',\n",
              "                                                    [key], {});\n",
              "        if (!dataTable) return;\n",
              "\n",
              "        const docLinkHtml = 'Like what you see? Visit the ' +\n",
              "          '<a target=\"_blank\" href=https://colab.research.google.com/notebooks/data_table.ipynb>data table notebook</a>'\n",
              "          + ' to learn more about interactive tables.';\n",
              "        element.innerHTML = '';\n",
              "        dataTable['output_type'] = 'display_data';\n",
              "        await google.colab.output.renderOutput(dataTable, element);\n",
              "        const docLink = document.createElement('div');\n",
              "        docLink.innerHTML = docLinkHtml;\n",
              "        element.appendChild(docLink);\n",
              "      }\n",
              "    </script>\n",
              "  </div>\n",
              "\n",
              "\n",
              "<div id=\"df-49ded13f-3da0-4606-b868-e15eb191ec82\">\n",
              "  <button class=\"colab-df-quickchart\" onclick=\"quickchart('df-49ded13f-3da0-4606-b868-e15eb191ec82')\"\n",
              "            title=\"Suggest charts\"\n",
              "            style=\"display:none;\">\n",
              "\n",
              "<svg xmlns=\"http://www.w3.org/2000/svg\" height=\"24px\"viewBox=\"0 0 24 24\"\n",
              "     width=\"24px\">\n",
              "    <g>\n",
              "        <path d=\"M19 3H5c-1.1 0-2 .9-2 2v14c0 1.1.9 2 2 2h14c1.1 0 2-.9 2-2V5c0-1.1-.9-2-2-2zM9 17H7v-7h2v7zm4 0h-2V7h2v10zm4 0h-2v-4h2v4z\"/>\n",
              "    </g>\n",
              "</svg>\n",
              "  </button>\n",
              "\n",
              "<style>\n",
              "  .colab-df-quickchart {\n",
              "      --bg-color: #E8F0FE;\n",
              "      --fill-color: #1967D2;\n",
              "      --hover-bg-color: #E2EBFA;\n",
              "      --hover-fill-color: #174EA6;\n",
              "      --disabled-fill-color: #AAA;\n",
              "      --disabled-bg-color: #DDD;\n",
              "  }\n",
              "\n",
              "  [theme=dark] .colab-df-quickchart {\n",
              "      --bg-color: #3B4455;\n",
              "      --fill-color: #D2E3FC;\n",
              "      --hover-bg-color: #434B5C;\n",
              "      --hover-fill-color: #FFFFFF;\n",
              "      --disabled-bg-color: #3B4455;\n",
              "      --disabled-fill-color: #666;\n",
              "  }\n",
              "\n",
              "  .colab-df-quickchart {\n",
              "    background-color: var(--bg-color);\n",
              "    border: none;\n",
              "    border-radius: 50%;\n",
              "    cursor: pointer;\n",
              "    display: none;\n",
              "    fill: var(--fill-color);\n",
              "    height: 32px;\n",
              "    padding: 0;\n",
              "    width: 32px;\n",
              "  }\n",
              "\n",
              "  .colab-df-quickchart:hover {\n",
              "    background-color: var(--hover-bg-color);\n",
              "    box-shadow: 0 1px 2px rgba(60, 64, 67, 0.3), 0 1px 3px 1px rgba(60, 64, 67, 0.15);\n",
              "    fill: var(--button-hover-fill-color);\n",
              "  }\n",
              "\n",
              "  .colab-df-quickchart-complete:disabled,\n",
              "  .colab-df-quickchart-complete:disabled:hover {\n",
              "    background-color: var(--disabled-bg-color);\n",
              "    fill: var(--disabled-fill-color);\n",
              "    box-shadow: none;\n",
              "  }\n",
              "\n",
              "  .colab-df-spinner {\n",
              "    border: 2px solid var(--fill-color);\n",
              "    border-color: transparent;\n",
              "    border-bottom-color: var(--fill-color);\n",
              "    animation:\n",
              "      spin 1s steps(1) infinite;\n",
              "  }\n",
              "\n",
              "  @keyframes spin {\n",
              "    0% {\n",
              "      border-color: transparent;\n",
              "      border-bottom-color: var(--fill-color);\n",
              "      border-left-color: var(--fill-color);\n",
              "    }\n",
              "    20% {\n",
              "      border-color: transparent;\n",
              "      border-left-color: var(--fill-color);\n",
              "      border-top-color: var(--fill-color);\n",
              "    }\n",
              "    30% {\n",
              "      border-color: transparent;\n",
              "      border-left-color: var(--fill-color);\n",
              "      border-top-color: var(--fill-color);\n",
              "      border-right-color: var(--fill-color);\n",
              "    }\n",
              "    40% {\n",
              "      border-color: transparent;\n",
              "      border-right-color: var(--fill-color);\n",
              "      border-top-color: var(--fill-color);\n",
              "    }\n",
              "    60% {\n",
              "      border-color: transparent;\n",
              "      border-right-color: var(--fill-color);\n",
              "    }\n",
              "    80% {\n",
              "      border-color: transparent;\n",
              "      border-right-color: var(--fill-color);\n",
              "      border-bottom-color: var(--fill-color);\n",
              "    }\n",
              "    90% {\n",
              "      border-color: transparent;\n",
              "      border-bottom-color: var(--fill-color);\n",
              "    }\n",
              "  }\n",
              "</style>\n",
              "\n",
              "  <script>\n",
              "    async function quickchart(key) {\n",
              "      const quickchartButtonEl =\n",
              "        document.querySelector('#' + key + ' button');\n",
              "      quickchartButtonEl.disabled = true;  // To prevent multiple clicks.\n",
              "      quickchartButtonEl.classList.add('colab-df-spinner');\n",
              "      try {\n",
              "        const charts = await google.colab.kernel.invokeFunction(\n",
              "            'suggestCharts', [key], {});\n",
              "      } catch (error) {\n",
              "        console.error('Error during call to suggestCharts:', error);\n",
              "      }\n",
              "      quickchartButtonEl.classList.remove('colab-df-spinner');\n",
              "      quickchartButtonEl.classList.add('colab-df-quickchart-complete');\n",
              "    }\n",
              "    (() => {\n",
              "      let quickchartButtonEl =\n",
              "        document.querySelector('#df-49ded13f-3da0-4606-b868-e15eb191ec82 button');\n",
              "      quickchartButtonEl.style.display =\n",
              "        google.colab.kernel.accessAllowed ? 'block' : 'none';\n",
              "    })();\n",
              "  </script>\n",
              "</div>\n",
              "    </div>\n",
              "  </div>\n"
            ]
          },
          "metadata": {},
          "execution_count": 39
        }
      ],
      "source": [
        "from tqdm import tqdm\n",
        "\n",
        "tqdm.pandas()\n",
        "\n",
        "df['clean_review2'] = df['clean_review'].progress_map(word_tokenizer)\n",
        "df.head()"
      ]
    },
    {
      "cell_type": "code",
      "execution_count": 40,
      "metadata": {
        "id": "cJgPEFuEkqhD",
        "colab": {
          "base_uri": "https://localhost:8080/"
        },
        "outputId": "05b11ed8-453d-4bf6-d4a8-5f3eea50c51f"
      },
      "outputs": [
        {
          "output_type": "execute_result",
          "data": {
            "text/plain": [
              "9606"
            ]
          },
          "metadata": {},
          "execution_count": 40
        }
      ],
      "source": [
        "data_words = df['clean_review2'].values.tolist()\n",
        "len(data_words)"
      ]
    },
    {
      "cell_type": "markdown",
      "source": [
        "## Creating the corpus"
      ],
      "metadata": {
        "id": "JPoWIEnmlhbd"
      }
    },
    {
      "cell_type": "code",
      "execution_count": 41,
      "metadata": {
        "id": "xDMmOhGZlI6V",
        "colab": {
          "base_uri": "https://localhost:8080/"
        },
        "outputId": "7be9f246-ac2d-4251-ca10-1797a15704d4"
      },
      "outputs": [
        {
          "output_type": "stream",
          "name": "stdout",
          "text": [
            "[(0, 1), (1, 1), (2, 1), (3, 1), (4, 1), (5, 1), (6, 1), (7, 1), (8, 1), (9, 3), (10, 1), (11, 1), (12, 1), (13, 1), (14, 1), (15, 1), (16, 1)]\n"
          ]
        }
      ],
      "source": [
        "import gensim.corpora as corpora\n",
        "\n",
        "# Create Dictionary\n",
        "id2word = corpora.Dictionary(data_words)\n",
        "# Create Corpus\n",
        "texts = data_words\n",
        "# Term Document Frequency\n",
        "corpus = [id2word.doc2bow(text) for text in texts]\n",
        "# View\n",
        "print(corpus[:1][0][:30])"
      ]
    },
    {
      "cell_type": "markdown",
      "source": [
        "## Extracting the important aspects of the reviews using Latent Dirichlet ALlocation"
      ],
      "metadata": {
        "id": "r750dfoils31"
      }
    },
    {
      "cell_type": "code",
      "execution_count": 42,
      "metadata": {
        "id": "PUh6eUMBlI2K",
        "colab": {
          "base_uri": "https://localhost:8080/"
        },
        "outputId": "e90846ab-1fbd-4475-b595-7938c5930163"
      },
      "outputs": [
        {
          "output_type": "stream",
          "name": "stderr",
          "text": [
            "WARNING:gensim.models.ldamulticore:too few updates, training might not converge; consider increasing the number of passes or iterations to improve accuracy\n"
          ]
        },
        {
          "output_type": "stream",
          "name": "stdout",
          "text": [
            "[(0,\n",
            "  '0.051*\"phone\" + 0.036*\"good\" + 0.034*\"camera\" + 0.026*\"bad\" + 0.023*\"price\" '\n",
            "  '+ 0.021*\"evil\" + 0.020*\"battery\" + 0.019*\"i\" + 0.016*\"quality\" + '\n",
            "  '0.011*\"also\"'),\n",
            " (1,\n",
            "  '0.033*\"battery\" + 0.027*\"phone\" + 0.026*\"bad\" + 0.024*\"camera\" + '\n",
            "  '0.023*\"quality\" + 0.023*\"good\" + 0.019*\"mobile\" + 0.018*\"backup\" + '\n",
            "  '0.017*\"delivery\" + 0.012*\"product\"'),\n",
            " (2,\n",
            "  '0.063*\"i\" + 0.046*\"phone\" + 0.021*\"use\" + 0.020*\"mobile\" + 0.018*\"redmi\" + '\n",
            "  '0.015*\"camera\" + 0.014*\"good\" + 0.014*\"battery\" + 0.014*\"thank\" + '\n",
            "  '0.011*\"product\"'),\n",
            " (3,\n",
            "  '0.052*\"i\" + 0.049*\"phone\" + 0.015*\"camera\" + 0.014*\"really\" + 0.014*\"redmi\" '\n",
            "  '+ 0.013*\"mobile\" + 0.013*\"use\" + 0.012*\"good\" + 0.012*\"one\" + '\n",
            "  '0.011*\"amazing\"'),\n",
            " (4,\n",
            "  '0.053*\"good\" + 0.034*\"heart\" + 0.029*\"red\" + 0.024*\"phone\" + 0.022*\"camera\" '\n",
            "  '+ 0.019*\"product\" + 0.011*\"also\" + 0.011*\"battery\" + 0.011*\"i\" + '\n",
            "  '0.011*\"use\"'),\n",
            " (5,\n",
            "  '0.041*\"face\" + 0.038*\"phone\" + 0.036*\"smile\" + 0.027*\"i\" + 0.024*\"good\" + '\n",
            "  '0.018*\"flipkart\" + 0.017*\"hand\" + 0.016*\"camera\" + 0.016*\"battery\" + '\n",
            "  '0.014*\"thank\"'),\n",
            " (6,\n",
            "  '0.035*\"camera\" + 0.028*\"i\" + 0.027*\"awesome\" + 0.024*\"phone\" + '\n",
            "  '0.022*\"great\" + 0.022*\"good\" + 0.019*\"product\" + 0.019*\"price\" + '\n",
            "  '0.018*\"performance\" + 0.016*\"display\"'),\n",
            " (7,\n",
            "  '0.046*\"good\" + 0.033*\"mobile\" + 0.030*\"i\" + 0.022*\"camera\" + '\n",
            "  '0.018*\"battery\" + 0.018*\"flipkart\" + 0.017*\"phone\" + 0.017*\"price\" + '\n",
            "  '0.016*\"also\" + 0.013*\"awesome\"'),\n",
            " (8,\n",
            "  '0.047*\"good\" + 0.042*\"phone\" + 0.040*\"camera\" + 0.034*\"i\" + 0.020*\"battery\" '\n",
            "  '+ 0.019*\"performance\" + 0.015*\"bad\" + 0.015*\"awesome\" + 0.012*\"quality\" + '\n",
            "  '0.011*\"product\"'),\n",
            " (9,\n",
            "  '0.016*\"phone\" + 0.012*\"product\" + 0.011*\"i\" + 0.008*\"good\" + '\n",
            "  '0.006*\"awesome\" + 0.006*\"battery\" + 0.005*\"camera\" + 0.005*\"evil\" + '\n",
            "  '0.005*\"also\" + 0.005*\"wonderful\"')]\n"
          ]
        }
      ],
      "source": [
        "from gensim.models import LdaMulticore\n",
        "from gensim.models import LdaModel\n",
        "from pprint import pprint\n",
        "\n",
        "# number of topics\n",
        "num_topics = 10\n",
        "# Build LDA model\n",
        "lda_model = LdaMulticore(corpus=corpus, id2word=id2word,\n",
        "                     num_topics=num_topics, iterations=400)\n",
        "# Print the Keyword in the 10 topics\n",
        "pprint(lda_model.print_topics())\n",
        "doc_lda = lda_model[corpus]"
      ]
    },
    {
      "cell_type": "code",
      "execution_count": 43,
      "metadata": {
        "id": "X7bxi_8GlIy_",
        "colab": {
          "base_uri": "https://localhost:8080/"
        },
        "outputId": "0a2be02f-a119-40b3-c326-7c7f1a53b99a"
      },
      "outputs": [
        {
          "output_type": "stream",
          "name": "stdout",
          "text": [
            "CPU times: user 12.7 s, sys: 171 ms, total: 12.9 s\n",
            "Wall time: 7.32 s\n"
          ]
        }
      ],
      "source": [
        "%%time\n",
        "from gensim.models import FastText\n",
        "fasttext_model = FastText(data_words, vector_size= 100, window=5, min_count=5, workers=4,sg=1)"
      ]
    },
    {
      "cell_type": "code",
      "execution_count": 44,
      "metadata": {
        "id": "arw8z7SSlIvU",
        "colab": {
          "base_uri": "https://localhost:8080/"
        },
        "outputId": "6bc54db9-3202-42ed-c34f-6748eed58d21"
      },
      "outputs": [
        {
          "output_type": "execute_result",
          "data": {
            "text/plain": [
              "0.9380637"
            ]
          },
          "metadata": {},
          "execution_count": 44
        }
      ],
      "source": [
        "fasttext_model.save(\"FastText-Model-For-ABSA.bin\")\n",
        "fasttext_model.wv.n_similarity(\"I really like the camera of this phone\", \"battery\")"
      ]
    },
    {
      "cell_type": "code",
      "execution_count": 45,
      "metadata": {
        "id": "2nakB3hXlIr_"
      },
      "outputs": [],
      "source": [
        "aspects = [\"phone\", \"camera\", \"battery\", \"delivery\", \"processor\"]\n",
        "\n",
        "def get_similarity(text, aspect):\n",
        "    try:\n",
        "        text = \" \".join(text)\n",
        "        return fasttext_model.wv.n_similarity(text, aspect)\n",
        "    except:\n",
        "        return 0"
      ]
    },
    {
      "cell_type": "code",
      "execution_count": 46,
      "metadata": {
        "id": "qQ5BqzLyqAyf",
        "colab": {
          "base_uri": "https://localhost:8080/",
          "height": 379
        },
        "outputId": "6736b141-5341-41b3-c276-edd668211079"
      },
      "outputs": [
        {
          "output_type": "stream",
          "name": "stderr",
          "text": [
            "100%|██████████| 9606/9606 [00:11<00:00, 855.39it/s] \n",
            "100%|██████████| 9606/9606 [00:11<00:00, 862.80it/s] \n",
            "100%|██████████| 9606/9606 [00:11<00:00, 814.00it/s]\n",
            "100%|██████████| 9606/9606 [00:09<00:00, 1003.25it/s]\n",
            "100%|██████████| 9606/9606 [00:12<00:00, 751.11it/s] \n"
          ]
        },
        {
          "output_type": "execute_result",
          "data": {
            "text/plain": [
              "                                              review  y  \\\n",
              "0  great phone in budget. .. pubg performance was...  0   \n",
              "1  Best Smartphone by Mi in this Range. . come fo...  0   \n",
              "2  Evil smooth phone. . and back camera quality i...  0   \n",
              "3  Thise is very nice mobile ...I like it very mu...  1   \n",
              "4  I m meagerly dissatisfy 👍 All section r superb...  0   \n",
              "\n",
              "                                        clean_review  \\\n",
              "0  great phone budget pubg performance rough came...   \n",
              "1  well smartphone mi range come r confuse samsun...   \n",
              "2  evil smooth phone back camera quality evil rea...   \n",
              "3  thise nice mobile I like much delivery also fa...   \n",
              "4  I meagerly dissatisfy thumb section r superb d...   \n",
              "\n",
              "                                       clean_review2     phone    camera  \\\n",
              "0  [great, phone, budget, pubg, performance, roug...  0.902403  0.877873   \n",
              "1  [well, smartphone, mi, range, come, r, confuse...  0.896138  0.834361   \n",
              "2  [evil, smooth, phone, back, camera, quality, e...  0.861567  0.884501   \n",
              "3  [thise, nice, mobile, i, like, much, delivery,...  0.861235  0.836126   \n",
              "4  [i, meagerly, dissatisfy, thumb, section, r, s...  0.839549  0.875481   \n",
              "\n",
              "    battery  delivery  processor  \n",
              "0  0.939073  0.891859   0.891839  \n",
              "1  0.919191  0.935638   0.845851  \n",
              "2  0.937762  0.942939   0.883463  \n",
              "3  0.892982  0.953998   0.827253  \n",
              "4  0.958030  0.961576   0.889044  "
            ],
            "text/html": [
              "\n",
              "  <div id=\"df-71d869c9-620c-4ba2-ae5e-1e57998de58a\" class=\"colab-df-container\">\n",
              "    <div>\n",
              "<style scoped>\n",
              "    .dataframe tbody tr th:only-of-type {\n",
              "        vertical-align: middle;\n",
              "    }\n",
              "\n",
              "    .dataframe tbody tr th {\n",
              "        vertical-align: top;\n",
              "    }\n",
              "\n",
              "    .dataframe thead th {\n",
              "        text-align: right;\n",
              "    }\n",
              "</style>\n",
              "<table border=\"1\" class=\"dataframe\">\n",
              "  <thead>\n",
              "    <tr style=\"text-align: right;\">\n",
              "      <th></th>\n",
              "      <th>review</th>\n",
              "      <th>y</th>\n",
              "      <th>clean_review</th>\n",
              "      <th>clean_review2</th>\n",
              "      <th>phone</th>\n",
              "      <th>camera</th>\n",
              "      <th>battery</th>\n",
              "      <th>delivery</th>\n",
              "      <th>processor</th>\n",
              "    </tr>\n",
              "  </thead>\n",
              "  <tbody>\n",
              "    <tr>\n",
              "      <th>0</th>\n",
              "      <td>great phone in budget. .. pubg performance was...</td>\n",
              "      <td>0</td>\n",
              "      <td>great phone budget pubg performance rough came...</td>\n",
              "      <td>[great, phone, budget, pubg, performance, roug...</td>\n",
              "      <td>0.902403</td>\n",
              "      <td>0.877873</td>\n",
              "      <td>0.939073</td>\n",
              "      <td>0.891859</td>\n",
              "      <td>0.891839</td>\n",
              "    </tr>\n",
              "    <tr>\n",
              "      <th>1</th>\n",
              "      <td>Best Smartphone by Mi in this Range. . come fo...</td>\n",
              "      <td>0</td>\n",
              "      <td>well smartphone mi range come r confuse samsun...</td>\n",
              "      <td>[well, smartphone, mi, range, come, r, confuse...</td>\n",
              "      <td>0.896138</td>\n",
              "      <td>0.834361</td>\n",
              "      <td>0.919191</td>\n",
              "      <td>0.935638</td>\n",
              "      <td>0.845851</td>\n",
              "    </tr>\n",
              "    <tr>\n",
              "      <th>2</th>\n",
              "      <td>Evil smooth phone. . and back camera quality i...</td>\n",
              "      <td>0</td>\n",
              "      <td>evil smooth phone back camera quality evil rea...</td>\n",
              "      <td>[evil, smooth, phone, back, camera, quality, e...</td>\n",
              "      <td>0.861567</td>\n",
              "      <td>0.884501</td>\n",
              "      <td>0.937762</td>\n",
              "      <td>0.942939</td>\n",
              "      <td>0.883463</td>\n",
              "    </tr>\n",
              "    <tr>\n",
              "      <th>3</th>\n",
              "      <td>Thise is very nice mobile ...I like it very mu...</td>\n",
              "      <td>1</td>\n",
              "      <td>thise nice mobile I like much delivery also fa...</td>\n",
              "      <td>[thise, nice, mobile, i, like, much, delivery,...</td>\n",
              "      <td>0.861235</td>\n",
              "      <td>0.836126</td>\n",
              "      <td>0.892982</td>\n",
              "      <td>0.953998</td>\n",
              "      <td>0.827253</td>\n",
              "    </tr>\n",
              "    <tr>\n",
              "      <th>4</th>\n",
              "      <td>I m meagerly dissatisfy 👍 All section r superb...</td>\n",
              "      <td>0</td>\n",
              "      <td>I meagerly dissatisfy thumb section r superb d...</td>\n",
              "      <td>[i, meagerly, dissatisfy, thumb, section, r, s...</td>\n",
              "      <td>0.839549</td>\n",
              "      <td>0.875481</td>\n",
              "      <td>0.958030</td>\n",
              "      <td>0.961576</td>\n",
              "      <td>0.889044</td>\n",
              "    </tr>\n",
              "  </tbody>\n",
              "</table>\n",
              "</div>\n",
              "    <div class=\"colab-df-buttons\">\n",
              "\n",
              "  <div class=\"colab-df-container\">\n",
              "    <button class=\"colab-df-convert\" onclick=\"convertToInteractive('df-71d869c9-620c-4ba2-ae5e-1e57998de58a')\"\n",
              "            title=\"Convert this dataframe to an interactive table.\"\n",
              "            style=\"display:none;\">\n",
              "\n",
              "  <svg xmlns=\"http://www.w3.org/2000/svg\" height=\"24px\" viewBox=\"0 -960 960 960\">\n",
              "    <path d=\"M120-120v-720h720v720H120Zm60-500h600v-160H180v160Zm220 220h160v-160H400v160Zm0 220h160v-160H400v160ZM180-400h160v-160H180v160Zm440 0h160v-160H620v160ZM180-180h160v-160H180v160Zm440 0h160v-160H620v160Z\"/>\n",
              "  </svg>\n",
              "    </button>\n",
              "\n",
              "  <style>\n",
              "    .colab-df-container {\n",
              "      display:flex;\n",
              "      gap: 12px;\n",
              "    }\n",
              "\n",
              "    .colab-df-convert {\n",
              "      background-color: #E8F0FE;\n",
              "      border: none;\n",
              "      border-radius: 50%;\n",
              "      cursor: pointer;\n",
              "      display: none;\n",
              "      fill: #1967D2;\n",
              "      height: 32px;\n",
              "      padding: 0 0 0 0;\n",
              "      width: 32px;\n",
              "    }\n",
              "\n",
              "    .colab-df-convert:hover {\n",
              "      background-color: #E2EBFA;\n",
              "      box-shadow: 0px 1px 2px rgba(60, 64, 67, 0.3), 0px 1px 3px 1px rgba(60, 64, 67, 0.15);\n",
              "      fill: #174EA6;\n",
              "    }\n",
              "\n",
              "    .colab-df-buttons div {\n",
              "      margin-bottom: 4px;\n",
              "    }\n",
              "\n",
              "    [theme=dark] .colab-df-convert {\n",
              "      background-color: #3B4455;\n",
              "      fill: #D2E3FC;\n",
              "    }\n",
              "\n",
              "    [theme=dark] .colab-df-convert:hover {\n",
              "      background-color: #434B5C;\n",
              "      box-shadow: 0px 1px 3px 1px rgba(0, 0, 0, 0.15);\n",
              "      filter: drop-shadow(0px 1px 2px rgba(0, 0, 0, 0.3));\n",
              "      fill: #FFFFFF;\n",
              "    }\n",
              "  </style>\n",
              "\n",
              "    <script>\n",
              "      const buttonEl =\n",
              "        document.querySelector('#df-71d869c9-620c-4ba2-ae5e-1e57998de58a button.colab-df-convert');\n",
              "      buttonEl.style.display =\n",
              "        google.colab.kernel.accessAllowed ? 'block' : 'none';\n",
              "\n",
              "      async function convertToInteractive(key) {\n",
              "        const element = document.querySelector('#df-71d869c9-620c-4ba2-ae5e-1e57998de58a');\n",
              "        const dataTable =\n",
              "          await google.colab.kernel.invokeFunction('convertToInteractive',\n",
              "                                                    [key], {});\n",
              "        if (!dataTable) return;\n",
              "\n",
              "        const docLinkHtml = 'Like what you see? Visit the ' +\n",
              "          '<a target=\"_blank\" href=https://colab.research.google.com/notebooks/data_table.ipynb>data table notebook</a>'\n",
              "          + ' to learn more about interactive tables.';\n",
              "        element.innerHTML = '';\n",
              "        dataTable['output_type'] = 'display_data';\n",
              "        await google.colab.output.renderOutput(dataTable, element);\n",
              "        const docLink = document.createElement('div');\n",
              "        docLink.innerHTML = docLinkHtml;\n",
              "        element.appendChild(docLink);\n",
              "      }\n",
              "    </script>\n",
              "  </div>\n",
              "\n",
              "\n",
              "<div id=\"df-88e69984-82b5-4f0d-bdb5-0195f2d17e35\">\n",
              "  <button class=\"colab-df-quickchart\" onclick=\"quickchart('df-88e69984-82b5-4f0d-bdb5-0195f2d17e35')\"\n",
              "            title=\"Suggest charts\"\n",
              "            style=\"display:none;\">\n",
              "\n",
              "<svg xmlns=\"http://www.w3.org/2000/svg\" height=\"24px\"viewBox=\"0 0 24 24\"\n",
              "     width=\"24px\">\n",
              "    <g>\n",
              "        <path d=\"M19 3H5c-1.1 0-2 .9-2 2v14c0 1.1.9 2 2 2h14c1.1 0 2-.9 2-2V5c0-1.1-.9-2-2-2zM9 17H7v-7h2v7zm4 0h-2V7h2v10zm4 0h-2v-4h2v4z\"/>\n",
              "    </g>\n",
              "</svg>\n",
              "  </button>\n",
              "\n",
              "<style>\n",
              "  .colab-df-quickchart {\n",
              "      --bg-color: #E8F0FE;\n",
              "      --fill-color: #1967D2;\n",
              "      --hover-bg-color: #E2EBFA;\n",
              "      --hover-fill-color: #174EA6;\n",
              "      --disabled-fill-color: #AAA;\n",
              "      --disabled-bg-color: #DDD;\n",
              "  }\n",
              "\n",
              "  [theme=dark] .colab-df-quickchart {\n",
              "      --bg-color: #3B4455;\n",
              "      --fill-color: #D2E3FC;\n",
              "      --hover-bg-color: #434B5C;\n",
              "      --hover-fill-color: #FFFFFF;\n",
              "      --disabled-bg-color: #3B4455;\n",
              "      --disabled-fill-color: #666;\n",
              "  }\n",
              "\n",
              "  .colab-df-quickchart {\n",
              "    background-color: var(--bg-color);\n",
              "    border: none;\n",
              "    border-radius: 50%;\n",
              "    cursor: pointer;\n",
              "    display: none;\n",
              "    fill: var(--fill-color);\n",
              "    height: 32px;\n",
              "    padding: 0;\n",
              "    width: 32px;\n",
              "  }\n",
              "\n",
              "  .colab-df-quickchart:hover {\n",
              "    background-color: var(--hover-bg-color);\n",
              "    box-shadow: 0 1px 2px rgba(60, 64, 67, 0.3), 0 1px 3px 1px rgba(60, 64, 67, 0.15);\n",
              "    fill: var(--button-hover-fill-color);\n",
              "  }\n",
              "\n",
              "  .colab-df-quickchart-complete:disabled,\n",
              "  .colab-df-quickchart-complete:disabled:hover {\n",
              "    background-color: var(--disabled-bg-color);\n",
              "    fill: var(--disabled-fill-color);\n",
              "    box-shadow: none;\n",
              "  }\n",
              "\n",
              "  .colab-df-spinner {\n",
              "    border: 2px solid var(--fill-color);\n",
              "    border-color: transparent;\n",
              "    border-bottom-color: var(--fill-color);\n",
              "    animation:\n",
              "      spin 1s steps(1) infinite;\n",
              "  }\n",
              "\n",
              "  @keyframes spin {\n",
              "    0% {\n",
              "      border-color: transparent;\n",
              "      border-bottom-color: var(--fill-color);\n",
              "      border-left-color: var(--fill-color);\n",
              "    }\n",
              "    20% {\n",
              "      border-color: transparent;\n",
              "      border-left-color: var(--fill-color);\n",
              "      border-top-color: var(--fill-color);\n",
              "    }\n",
              "    30% {\n",
              "      border-color: transparent;\n",
              "      border-left-color: var(--fill-color);\n",
              "      border-top-color: var(--fill-color);\n",
              "      border-right-color: var(--fill-color);\n",
              "    }\n",
              "    40% {\n",
              "      border-color: transparent;\n",
              "      border-right-color: var(--fill-color);\n",
              "      border-top-color: var(--fill-color);\n",
              "    }\n",
              "    60% {\n",
              "      border-color: transparent;\n",
              "      border-right-color: var(--fill-color);\n",
              "    }\n",
              "    80% {\n",
              "      border-color: transparent;\n",
              "      border-right-color: var(--fill-color);\n",
              "      border-bottom-color: var(--fill-color);\n",
              "    }\n",
              "    90% {\n",
              "      border-color: transparent;\n",
              "      border-bottom-color: var(--fill-color);\n",
              "    }\n",
              "  }\n",
              "</style>\n",
              "\n",
              "  <script>\n",
              "    async function quickchart(key) {\n",
              "      const quickchartButtonEl =\n",
              "        document.querySelector('#' + key + ' button');\n",
              "      quickchartButtonEl.disabled = true;  // To prevent multiple clicks.\n",
              "      quickchartButtonEl.classList.add('colab-df-spinner');\n",
              "      try {\n",
              "        const charts = await google.colab.kernel.invokeFunction(\n",
              "            'suggestCharts', [key], {});\n",
              "      } catch (error) {\n",
              "        console.error('Error during call to suggestCharts:', error);\n",
              "      }\n",
              "      quickchartButtonEl.classList.remove('colab-df-spinner');\n",
              "      quickchartButtonEl.classList.add('colab-df-quickchart-complete');\n",
              "    }\n",
              "    (() => {\n",
              "      let quickchartButtonEl =\n",
              "        document.querySelector('#df-88e69984-82b5-4f0d-bdb5-0195f2d17e35 button');\n",
              "      quickchartButtonEl.style.display =\n",
              "        google.colab.kernel.accessAllowed ? 'block' : 'none';\n",
              "    })();\n",
              "  </script>\n",
              "</div>\n",
              "    </div>\n",
              "  </div>\n"
            ]
          },
          "metadata": {},
          "execution_count": 46
        }
      ],
      "source": [
        "from tqdm import tqdm\n",
        "tqdm.pandas()\n",
        "for aspect in aspects:\n",
        "    df[aspect] = df['clean_review2'].progress_map(lambda text: get_similarity(text, aspect))\n",
        "df.head()"
      ]
    },
    {
      "cell_type": "code",
      "execution_count": 47,
      "metadata": {
        "id": "JUq3zmBcqIrB"
      },
      "outputs": [],
      "source": [
        "df.to_csv(\"Clean_Flipkart_Product.csv\", index = False)"
      ]
    },
    {
      "cell_type": "markdown",
      "source": [
        "## Creating the model"
      ],
      "metadata": {
        "id": "0gDs-0z5mAtw"
      }
    },
    {
      "cell_type": "code",
      "execution_count": 48,
      "metadata": {
        "id": "ZrDRUMDnqMYJ"
      },
      "outputs": [],
      "source": [
        "import torch\n",
        "from torch import nn\n",
        "from torch.utils.data import Dataset\n",
        "from torch.utils.data import DataLoader\n",
        "from torch.utils.data import RandomSampler\n",
        "import warnings"
      ]
    },
    {
      "cell_type": "code",
      "execution_count": 49,
      "metadata": {
        "id": "Bdp9AGQNqMVf"
      },
      "outputs": [],
      "source": [
        "class config:\n",
        "    warnings.filterwarnings(\"ignore\", category = UserWarning)\n",
        "    IMG_SIZE = (224,224)\n",
        "    DEVICE = (\"cuda\" if torch.cuda.is_available() else \"cpu\")\n",
        "    FOLDS = 5\n",
        "    SHUFFLE = True\n",
        "    BATCH_SIZE = 32\n",
        "    LR = 0.01\n",
        "    EPOCHS = 30\n",
        "    EMB_DIM = 100\n",
        "    MAX_LEN = 20\n",
        "    MODEL_PATH = \"MyModel.pt\""
      ]
    },
    {
      "cell_type": "markdown",
      "source": [
        "## Vocabulary"
      ],
      "metadata": {
        "id": "WxlGmVmymDxk"
      }
    },
    {
      "cell_type": "code",
      "execution_count": 50,
      "metadata": {
        "id": "a0OSDZCYqMSO"
      },
      "outputs": [],
      "source": [
        "class Vocabulary:\n",
        "\n",
        "    '''\n",
        "    __init__ method is called by default as soon as an object of this class is initiated\n",
        "    we use this method to initiate our vocab dictionaries\n",
        "    '''\n",
        "    def __init__(self, freq_threshold, max_size):\n",
        "        '''\n",
        "        freq_threshold : the minimum times a word must occur in corpus to be treated in vocab\n",
        "        max_size : max source vocab size. Eg. if set to 10,000, we pick the top 10,000 most frequent words and discard others\n",
        "        '''\n",
        "        #initiate the index to token dict\n",
        "        ## <PAD> -> padding, used for padding the shorter sentences in a batch to match the length of longest sentence in the batch\n",
        "        ## <SOS> -> start token, added in front of each sentence to signify the start of sentence\n",
        "        ## <EOS> -> End of sentence token, added to the end of each sentence to signify the end of sentence\n",
        "        ## <UNK> -> words which are not found in the vocab are replace by this token\n",
        "        self.itos = {0: '<PAD>', 1:'<SOS>', 2:'<EOS>', 3: '<UNK>'}\n",
        "        #initiate the token to index dict\n",
        "        self.stoi = {k:j for j,k in self.itos.items()}\n",
        "\n",
        "        self.freq_threshold = freq_threshold\n",
        "        self.max_size = max_size\n",
        "\n",
        "    '''\n",
        "    __len__ is used by dataloader later to create batches\n",
        "    '''\n",
        "    def __len__(self):\n",
        "        return len(self.itos)\n",
        "\n",
        "    '''\n",
        "    a simple tokenizer to split on space and converts the sentence to list of words\n",
        "    '''\n",
        "    @staticmethod\n",
        "    def tokenizer(text):\n",
        "        return [tok.lower().strip() for tok in text.split(' ')]\n",
        "\n",
        "    '''\n",
        "    build the vocab: create a dictionary mapping of index to string (itos) and string to index (stoi)\n",
        "    output ex. for stoi -> {'the':5, 'a':6, 'an':7}\n",
        "    '''\n",
        "    def build_vocabulary(self, sentence_list):\n",
        "        #calculate the frequencies of each word first to remove the words with freq < freq_threshold\n",
        "        frequencies = {}  #init the freq dict\n",
        "        idx = 4 #index from which we want our dict to start. We already used 4 indexes for pad, start, end, unk\n",
        "\n",
        "        #calculate freq of words\n",
        "        for sentence in sentence_list:\n",
        "            for word in self.tokenizer(sentence):\n",
        "                if word not in frequencies.keys():\n",
        "                    frequencies[word]=1\n",
        "                else:\n",
        "                    frequencies[word]+=1\n",
        "\n",
        "\n",
        "        #limit vocab by removing low freq words\n",
        "        frequencies = {k:v for k,v in frequencies.items() if v>self.freq_threshold}\n",
        "\n",
        "        #limit vocab to the max_size specified\n",
        "        frequencies = dict(sorted(frequencies.items(), key = lambda x: -x[1])[:self.max_size-idx]) # idx =4 for pad, start, end , unk\n",
        "\n",
        "        #create vocab\n",
        "        for word in frequencies.keys():\n",
        "            self.stoi[word] = idx\n",
        "            self.itos[idx] = word\n",
        "            idx+=1\n",
        "\n",
        "\n",
        "    '''\n",
        "    convert the list of words to a list of corresponding indexes\n",
        "    '''\n",
        "    def numericalize(self, text):\n",
        "        #tokenize text\n",
        "        tokenized_text = self.tokenizer(text)\n",
        "        numericalized_text = []\n",
        "        for token in tokenized_text:\n",
        "            if token in self.stoi.keys():\n",
        "                numericalized_text.append(self.stoi[token])\n",
        "            else: #out-of-vocab words are represented by UNK token index\n",
        "                numericalized_text.append(self.stoi['<UNK>'])\n",
        "\n",
        "        return numericalized_text\n"
      ]
    },
    {
      "cell_type": "code",
      "execution_count": 51,
      "metadata": {
        "id": "392i4HsaqMPY",
        "colab": {
          "base_uri": "https://localhost:8080/"
        },
        "outputId": "fc1cfbe0-ca26-4a13-f278-fd2252445eac"
      },
      "outputs": [
        {
          "output_type": "execute_result",
          "data": {
            "text/plain": [
              "3307"
            ]
          },
          "metadata": {},
          "execution_count": 51
        }
      ],
      "source": [
        "from torch.utils.data import Dataset\n",
        "\n",
        "class CustomDataset(Dataset):\n",
        "    '''\n",
        "    Initiating Variables\n",
        "    df: the training dataframe\n",
        "    source_column : the name of source text column in the dataframe\n",
        "    transform : If we want to add any augmentation\n",
        "    freq_threshold : the minimum times a word must occur in corpus to be treated in vocab\n",
        "    source_vocab_max_size : max source vocab size\n",
        "    '''\n",
        "\n",
        "    def __init__(self, df, source_column,freq_threshold = 3,\n",
        "                source_vocab_max_size = 10000 , transform=None):\n",
        "\n",
        "        self.df = df\n",
        "        self.transform = transform\n",
        "\n",
        "        #get source and target texts\n",
        "        self.source_texts = self.df[source_column]\n",
        "\n",
        "\n",
        "        ##VOCAB class has been created above\n",
        "        #Initialize source vocab object and build vocabulary\n",
        "        self.source_vocab = Vocabulary(freq_threshold, source_vocab_max_size)\n",
        "        self.source_vocab.build_vocabulary(self.source_texts.tolist())\n",
        "\n",
        "\n",
        "    def __len__(self):\n",
        "        return len(self.df)\n",
        "\n",
        "    '''\n",
        "    __getitem__ runs on 1 example at a time. Here, we get an example at index and return its numericalize source and\n",
        "    target values using the vocabulary objects we created in __init__\n",
        "    '''\n",
        "    def __getitem__(self, index):\n",
        "        source_text = self.source_texts[index]\n",
        "\n",
        "        if self.transform is not None:\n",
        "            source_text = self.transform(source_text)\n",
        "\n",
        "        #numericalize texts ['<SOS>','cat', 'in', 'a', 'bag','<EOS>'] -> [1,12,2,9,24,2]\n",
        "        numerialized_source = [self.source_vocab.stoi[\"<SOS>\"]]\n",
        "        numerialized_source += self.source_vocab.numericalize(source_text)\n",
        "        numerialized_source.append(self.source_vocab.stoi[\"<EOS>\"])\n",
        "\n",
        "        #convert the list to tensor and return\n",
        "        return torch.tensor(numerialized_source), torch.tensor(self.df.y[index])\n",
        "\n",
        "dataset = CustomDataset(df, \"clean_review\")\n",
        "len(dataset.source_vocab.stoi)"
      ]
    },
    {
      "cell_type": "code",
      "execution_count": 52,
      "metadata": {
        "id": "hYf93o5vqMMD"
      },
      "outputs": [],
      "source": [
        "import pickle\n",
        "\n",
        "with open('dataset-new', 'wb') as dataset_file:\n",
        "\n",
        "    pickle.dump(dataset, dataset_file, pickle.HIGHEST_PROTOCOL)"
      ]
    },
    {
      "cell_type": "markdown",
      "source": [
        "## Embedding Matrix"
      ],
      "metadata": {
        "id": "oPOMMx4SmLIN"
      }
    },
    {
      "cell_type": "code",
      "execution_count": 53,
      "metadata": {
        "id": "hWZqVe9mq8jH"
      },
      "outputs": [],
      "source": [
        "def get_emb_layer_with_weights(target_vocab, emb_model, trainable = False):\n",
        "\n",
        "    weights_matrix = np.zeros((len(target_vocab), config.EMB_DIM))\n",
        "    words_found = 0\n",
        "\n",
        "    for i, word in enumerate(target_vocab):\n",
        "        weights_matrix[i] = np.concatenate([emb_model.wv[word]])\n",
        "        words_found += 1\n",
        "\n",
        "    print(f\"Words found are : {words_found}\")\n",
        "\n",
        "    weights_matrix = torch.tensor(weights_matrix, dtype = torch.float32).reshape(len(target_vocab), config.EMB_DIM)\n",
        "    emb_layer = nn.Embedding.from_pretrained(weights_matrix)\n",
        "    print(emb_layer)\n",
        "    if trainable:\n",
        "        emb_layer.weight.requires_grad = True\n",
        "    else:\n",
        "        emb_layer.weight.requires_grad = False\n",
        "\n",
        "    return emb_layer"
      ]
    },
    {
      "cell_type": "code",
      "execution_count": 54,
      "metadata": {
        "id": "NLFO2lkjq8cF"
      },
      "outputs": [],
      "source": [
        "class MyCollate:\n",
        "    def __init__(self, pad_idx, maxlen):\n",
        "        self.pad_idx = pad_idx\n",
        "        self.maxlen = maxlen\n",
        "\n",
        "\n",
        "    #__call__: a default method\n",
        "    ##   First the obj is created using MyCollate(pad_idx) in data loader\n",
        "    ##   Then if obj(batch) is called -> __call__ runs by default\n",
        "    def __call__(self, batch):\n",
        "        #get all source indexed sentences of the batch\n",
        "        source = [item[0] for item in batch]\n",
        "        #pad them using pad_sequence method from pytorch.\n",
        "#         source = pad_sequence(source, batch_first=False, padding_value = self.pad_idx)\n",
        "\n",
        "        padded_sequence = torch.zeros((self.maxlen, len(batch)), dtype = torch.int)\n",
        "\n",
        "        for idx, text in enumerate(source):\n",
        "\n",
        "            if len(text) > self.maxlen:\n",
        "                padded_sequence[:, idx] = source[idx][: self.maxlen]\n",
        "            else:\n",
        "                padded_sequence[:len(source[idx]), idx] = padded_sequence[:len(source[idx]), idx] + source[idx]\n",
        "\n",
        "\n",
        "        #get all target indexed sentences of the batch\n",
        "        target = [item[1] for item in batch]\n",
        "\n",
        "        target = torch.tensor(target, dtype = torch.float32).reshape(-1)\n",
        "        return padded_sequence, target"
      ]
    },
    {
      "cell_type": "markdown",
      "source": [
        "# Model"
      ],
      "metadata": {
        "id": "1wbdsVFQmryK"
      }
    },
    {
      "cell_type": "code",
      "execution_count": 55,
      "metadata": {
        "id": "ejxQWxPMq8Ys"
      },
      "outputs": [],
      "source": [
        "class Model(nn.Module):\n",
        "    def __init__(self, input_dim, embedding_dim, hidden_dim, output_dim, embedding_layer):\n",
        "        super().__init__()\n",
        "#         self.embedding = nn.Embedding(input_dim, embedding_dim)\n",
        "        self.hidden_dim = hidden_dim\n",
        "        self.embedding = embedding_layer\n",
        "        self.lstm = nn.LSTM(embedding_dim, hidden_dim, bidirectional = True)\n",
        "        self.fc1 = nn.Linear(2*hidden_dim, 128)\n",
        "        self.fc2 = nn.Linear(128, output_dim)\n",
        "        self.dropout = nn.Dropout(0.3)\n",
        "        self.sigmoid = nn.Sigmoid()\n",
        "\n",
        "\n",
        "\n",
        "    def forward(self, text):\n",
        "\n",
        "        max_len, N = text.shape\n",
        "        hidden = torch.zeros((2, N , self.hidden_dim),\n",
        "                          dtype=torch.float)\n",
        "        memory = torch.zeros((2, N , self.hidden_dim),\n",
        "                          dtype=torch.float)\n",
        "        hidden = hidden.to(config.DEVICE)\n",
        "        memory = memory.to(config.DEVICE)\n",
        "        embedded = self.embedding(text)\n",
        "        output, hidden = self.lstm(embedded, (hidden, memory))\n",
        "#         assert torch.equal(output[-1,:,:], hidden.squeeze(0))\n",
        "        y_pred = output[-1,:,:]\n",
        "        y_pred = self.fc1(y_pred)\n",
        "        y_pred = self.fc2(y_pred)\n",
        "        y_pred = self.sigmoid(y_pred)\n",
        "\n",
        "        return y_pred"
      ]
    },
    {
      "cell_type": "code",
      "execution_count": 56,
      "metadata": {
        "id": "ET_GjysUrNs-"
      },
      "outputs": [],
      "source": [
        "def train_epochs(dataloader,model, loss_fn, optimizer):\n",
        "    train_correct = 0\n",
        "    train_loss = 0\n",
        "\n",
        "    model.train()\n",
        "\n",
        "    for review, label in tqdm(dataloader):\n",
        "\n",
        "        review, label = review.to(config.DEVICE), label.to(config.DEVICE)\n",
        "        optimizer.zero_grad()\n",
        "        output = model(review)\n",
        "        output = output.reshape(-1)\n",
        "        loss = loss_fn(output, label)\n",
        "        loss.backward()\n",
        "        optimizer.step()\n",
        "\n",
        "        train_loss += loss.item()*review.size(1)\n",
        "        prediction = (output > 0.5).float()\n",
        "        train_correct += (prediction == label).float().sum()\n",
        "\n",
        "    return train_loss, train_correct\n"
      ]
    },
    {
      "cell_type": "code",
      "execution_count": 57,
      "metadata": {
        "id": "EZ9W8iwGrNpK"
      },
      "outputs": [],
      "source": [
        "def val_epochs(dataloader, model, loss_fn):\n",
        "    val_correct = 0\n",
        "    val_loss = 0\n",
        "\n",
        "    model.eval()\n",
        "#     hidden = model.init_hidden(config.BATCH_SIZE)\n",
        "\n",
        "    for review, label in dataloader:\n",
        "\n",
        "        review, label = review.to(config.DEVICE), label.to(config.DEVICE)\n",
        "\n",
        "        output = model(review)\n",
        "        output = output.reshape(-1)\n",
        "\n",
        "        loss = loss_fn(output, label)\n",
        "\n",
        "        val_loss += loss.item()*review.size(1)\n",
        "        prediction = (output > 0.5).float()\n",
        "        val_correct += (prediction == label).float().sum()\n",
        "#         prediction =\n",
        "    return val_loss, val_correct"
      ]
    },
    {
      "cell_type": "code",
      "execution_count": 58,
      "metadata": {
        "id": "_7RxLtMKrbe2",
        "colab": {
          "base_uri": "https://localhost:8080/"
        },
        "outputId": "cc0bd42f-336e-42dd-e0de-7fc3716a4e9c"
      },
      "outputs": [
        {
          "output_type": "stream",
          "name": "stdout",
          "text": [
            "Words found are : 3307\n",
            "Embedding(3307, 100)\n",
            "-----------------------------------------------------------0-fold of the model-----------------------------------------------------------\n"
          ]
        },
        {
          "output_type": "stream",
          "name": "stderr",
          "text": [
            "100%|██████████| 241/241 [00:02<00:00, 90.47it/s] \n"
          ]
        },
        {
          "output_type": "stream",
          "name": "stdout",
          "text": [
            "| Train Loss : 0.6926267278622613 |  Val Loss : 0.6902857871879275 | Train Acc : 51.67881393432617 | Val Acc : 51.61290740966797 |\n"
          ]
        },
        {
          "output_type": "stream",
          "name": "stderr",
          "text": [
            "100%|██████████| 241/241 [00:01<00:00, 157.48it/s]\n"
          ]
        },
        {
          "output_type": "stream",
          "name": "stdout",
          "text": [
            "| Train Loss : 0.6888459463531558 |  Val Loss : 0.6841198296502279 | Train Acc : 55.88235092163086 | Val Acc : 55.46306228637695 |\n"
          ]
        },
        {
          "output_type": "stream",
          "name": "stderr",
          "text": [
            "100%|██████████| 241/241 [00:01<00:00, 190.59it/s]\n"
          ]
        },
        {
          "output_type": "stream",
          "name": "stdout",
          "text": [
            "| Train Loss : 0.6629014201055027 |  Val Loss : 0.4933770474794628 | Train Acc : 63.664756774902344 | Val Acc : 74.2455825805664 |\n"
          ]
        },
        {
          "output_type": "stream",
          "name": "stderr",
          "text": [
            "100%|██████████| 241/241 [00:01<00:00, 208.36it/s]\n"
          ]
        },
        {
          "output_type": "stream",
          "name": "stdout",
          "text": [
            "| Train Loss : 0.4168638314941257 |  Val Loss : 0.34047621972354963 | Train Acc : 82.44403839111328 | Val Acc : 85.43184661865234 |\n"
          ]
        },
        {
          "output_type": "stream",
          "name": "stderr",
          "text": [
            "100%|██████████| 241/241 [00:01<00:00, 208.47it/s]\n"
          ]
        },
        {
          "output_type": "stream",
          "name": "stdout",
          "text": [
            "| Train Loss : 0.28696766960347836 |  Val Loss : 0.5924593746956752 | Train Acc : 89.04216766357422 | Val Acc : 74.60978698730469 |\n"
          ]
        },
        {
          "output_type": "stream",
          "name": "stderr",
          "text": [
            "100%|██████████| 241/241 [00:01<00:00, 207.30it/s]\n"
          ]
        },
        {
          "output_type": "stream",
          "name": "stdout",
          "text": [
            "| Train Loss : 0.23936273685847018 |  Val Loss : 0.1585254772148569 | Train Acc : 90.8381118774414 | Val Acc : 94.4328842163086 |\n"
          ]
        },
        {
          "output_type": "stream",
          "name": "stderr",
          "text": [
            "100%|██████████| 241/241 [00:01<00:00, 208.03it/s]\n"
          ]
        },
        {
          "output_type": "stream",
          "name": "stdout",
          "text": [
            "| Train Loss : 0.21759073334643766 |  Val Loss : 0.2868513114649597 | Train Acc : 91.37168884277344 | Val Acc : 88.60562133789062 |\n"
          ]
        },
        {
          "output_type": "stream",
          "name": "stderr",
          "text": [
            "100%|██████████| 241/241 [00:01<00:00, 206.07it/s]\n"
          ]
        },
        {
          "output_type": "stream",
          "name": "stdout",
          "text": [
            "| Train Loss : 0.19012077035986466 |  Val Loss : 0.2591252398912666 | Train Acc : 92.82925415039062 | Val Acc : 89.85432434082031 |\n"
          ]
        },
        {
          "output_type": "stream",
          "name": "stderr",
          "text": [
            "100%|██████████| 241/241 [00:01<00:00, 207.56it/s]\n"
          ]
        },
        {
          "output_type": "stream",
          "name": "stdout",
          "text": [
            "| Train Loss : 0.19190147768886434 |  Val Loss : 0.18538663809213876 | Train Acc : 92.56897735595703 | Val Acc : 92.35172271728516 |\n"
          ]
        },
        {
          "output_type": "stream",
          "name": "stderr",
          "text": [
            "100%|██████████| 241/241 [00:01<00:00, 172.99it/s]\n"
          ]
        },
        {
          "output_type": "stream",
          "name": "stdout",
          "text": [
            "| Train Loss : 0.19061770749737483 |  Val Loss : 0.19567855158345882 | Train Acc : 92.37377166748047 | Val Acc : 92.14360809326172 |\n"
          ]
        },
        {
          "output_type": "stream",
          "name": "stderr",
          "text": [
            "100%|██████████| 241/241 [00:01<00:00, 156.43it/s]\n"
          ]
        },
        {
          "output_type": "stream",
          "name": "stdout",
          "text": [
            "| Train Loss : 0.18511064648473094 |  Val Loss : 0.27570560723775756 | Train Acc : 92.80323028564453 | Val Acc : 90.27055358886719 |\n"
          ]
        },
        {
          "output_type": "stream",
          "name": "stderr",
          "text": [
            "100%|██████████| 241/241 [00:01<00:00, 176.05it/s]\n"
          ]
        },
        {
          "output_type": "stream",
          "name": "stdout",
          "text": [
            "| Train Loss : 0.17513281014640775 |  Val Loss : 0.6576308010768196 | Train Acc : 92.84227752685547 | Val Acc : 78.56400299072266 |\n"
          ]
        },
        {
          "output_type": "stream",
          "name": "stderr",
          "text": [
            "100%|██████████| 241/241 [00:01<00:00, 204.70it/s]\n"
          ]
        },
        {
          "output_type": "stream",
          "name": "stdout",
          "text": [
            "| Train Loss : 0.16979064953545925 |  Val Loss : 0.1362179614812849 | Train Acc : 93.21968078613281 | Val Acc : 94.90115356445312 |\n"
          ]
        },
        {
          "output_type": "stream",
          "name": "stderr",
          "text": [
            "100%|██████████| 241/241 [00:01<00:00, 204.98it/s]\n"
          ]
        },
        {
          "output_type": "stream",
          "name": "stdout",
          "text": [
            "| Train Loss : 0.17049752023771117 |  Val Loss : 0.19978228556215144 | Train Acc : 93.23269653320312 | Val Acc : 90.84288024902344 |\n"
          ]
        },
        {
          "output_type": "stream",
          "name": "stderr",
          "text": [
            "100%|██████████| 241/241 [00:01<00:00, 205.57it/s]\n"
          ]
        },
        {
          "output_type": "stream",
          "name": "stdout",
          "text": [
            "| Train Loss : 0.1651641705937835 |  Val Loss : 0.22130555348639433 | Train Acc : 93.75325775146484 | Val Acc : 90.94693756103516 |\n"
          ]
        },
        {
          "output_type": "stream",
          "name": "stderr",
          "text": [
            "100%|██████████| 241/241 [00:01<00:00, 203.17it/s]\n"
          ]
        },
        {
          "output_type": "stream",
          "name": "stdout",
          "text": [
            "| Train Loss : 0.1674959949687519 |  Val Loss : 0.13545787809746151 | Train Acc : 93.24571228027344 | Val Acc : 94.74506378173828 |\n"
          ]
        },
        {
          "output_type": "stream",
          "name": "stderr",
          "text": [
            "100%|██████████| 241/241 [00:01<00:00, 207.92it/s]\n"
          ]
        },
        {
          "output_type": "stream",
          "name": "stdout",
          "text": [
            "| Train Loss : 0.16388602808839267 |  Val Loss : 0.1346588790199635 | Train Acc : 93.24571228027344 | Val Acc : 95.21332550048828 |\n"
          ]
        },
        {
          "output_type": "stream",
          "name": "stderr",
          "text": [
            "100%|██████████| 241/241 [00:01<00:00, 144.19it/s]\n"
          ]
        },
        {
          "output_type": "stream",
          "name": "stdout",
          "text": [
            "| Train Loss : 0.16091044980960859 |  Val Loss : 0.2980238414223187 | Train Acc : 93.6361312866211 | Val Acc : 85.06764221191406 |\n"
          ]
        },
        {
          "output_type": "stream",
          "name": "stderr",
          "text": [
            "100%|██████████| 241/241 [00:01<00:00, 165.93it/s]\n"
          ]
        },
        {
          "output_type": "stream",
          "name": "stdout",
          "text": [
            "| Train Loss : 0.15823499342346178 |  Val Loss : 0.1325393250438847 | Train Acc : 93.79230499267578 | Val Acc : 95.16129302978516 |\n"
          ]
        },
        {
          "output_type": "stream",
          "name": "stderr",
          "text": [
            "100%|██████████| 241/241 [00:01<00:00, 159.96it/s]\n"
          ]
        },
        {
          "output_type": "stream",
          "name": "stdout",
          "text": [
            "| Train Loss : 0.15574049294956768 |  Val Loss : 0.1393423680774286 | Train Acc : 93.74024200439453 | Val Acc : 95.16129302978516 |\n"
          ]
        },
        {
          "output_type": "stream",
          "name": "stderr",
          "text": [
            "100%|██████████| 241/241 [00:01<00:00, 178.97it/s]\n"
          ]
        },
        {
          "output_type": "stream",
          "name": "stdout",
          "text": [
            "| Train Loss : 0.1538773814661313 |  Val Loss : 0.21126884660944265 | Train Acc : 94.09162139892578 | Val Acc : 90.68678283691406 |\n"
          ]
        },
        {
          "output_type": "stream",
          "name": "stderr",
          "text": [
            "100%|██████████| 241/241 [00:01<00:00, 200.81it/s]\n"
          ]
        },
        {
          "output_type": "stream",
          "name": "stdout",
          "text": [
            "| Train Loss : 0.1630348401616353 |  Val Loss : 0.1678094198575009 | Train Acc : 93.46694946289062 | Val Acc : 94.22476959228516 |\n"
          ]
        },
        {
          "output_type": "stream",
          "name": "stderr",
          "text": [
            "100%|██████████| 241/241 [00:01<00:00, 205.60it/s]\n"
          ]
        },
        {
          "output_type": "stream",
          "name": "stdout",
          "text": [
            "| Train Loss : 0.1497733102978548 |  Val Loss : 0.15423181933873215 | Train Acc : 94.29985046386719 | Val Acc : 93.80854034423828 |\n"
          ]
        },
        {
          "output_type": "stream",
          "name": "stderr",
          "text": [
            "100%|██████████| 241/241 [00:01<00:00, 204.23it/s]\n"
          ]
        },
        {
          "output_type": "stream",
          "name": "stdout",
          "text": [
            "| Train Loss : 0.15254614026494662 |  Val Loss : 0.15714049273297484 | Train Acc : 94.02655029296875 | Val Acc : 93.60042572021484 |\n"
          ]
        },
        {
          "output_type": "stream",
          "name": "stderr",
          "text": [
            "100%|██████████| 241/241 [00:01<00:00, 206.61it/s]\n"
          ]
        },
        {
          "output_type": "stream",
          "name": "stdout",
          "text": [
            "| Train Loss : 0.1537910147702427 |  Val Loss : 0.4071817133950242 | Train Acc : 94.15669250488281 | Val Acc : 77.78356170654297 |\n"
          ]
        },
        {
          "output_type": "stream",
          "name": "stderr",
          "text": [
            "100%|██████████| 241/241 [00:01<00:00, 204.47it/s]\n"
          ]
        },
        {
          "output_type": "stream",
          "name": "stdout",
          "text": [
            "| Train Loss : 0.15249144722295965 |  Val Loss : 0.15400660747388895 | Train Acc : 94.00052642822266 | Val Acc : 93.4443359375 |\n"
          ]
        },
        {
          "output_type": "stream",
          "name": "stderr",
          "text": [
            "100%|██████████| 241/241 [00:01<00:00, 207.45it/s]\n"
          ]
        },
        {
          "output_type": "stream",
          "name": "stdout",
          "text": [
            "| Train Loss : 0.14843451717062692 |  Val Loss : 0.12467187275173885 | Train Acc : 94.22176361083984 | Val Acc : 95.3173828125 |\n"
          ]
        },
        {
          "output_type": "stream",
          "name": "stderr",
          "text": [
            "100%|██████████| 241/241 [00:01<00:00, 175.51it/s]\n"
          ]
        },
        {
          "output_type": "stream",
          "name": "stdout",
          "text": [
            "| Train Loss : 0.14350945702649726 |  Val Loss : 0.12263570710411925 | Train Acc : 94.48204803466797 | Val Acc : 95.26535034179688 |\n"
          ]
        },
        {
          "output_type": "stream",
          "name": "stderr",
          "text": [
            "100%|██████████| 241/241 [00:01<00:00, 157.00it/s]\n"
          ]
        },
        {
          "output_type": "stream",
          "name": "stdout",
          "text": [
            "| Train Loss : 0.14569804704089234 |  Val Loss : 0.12770008958599813 | Train Acc : 94.23477935791016 | Val Acc : 95.42144012451172 |\n"
          ]
        },
        {
          "output_type": "stream",
          "name": "stderr",
          "text": [
            "100%|██████████| 241/241 [00:01<00:00, 169.97it/s]\n"
          ]
        },
        {
          "output_type": "stream",
          "name": "stdout",
          "text": [
            "| Train Loss : 0.14206027350098066 |  Val Loss : 0.19781901679630706 | Train Acc : 94.23477935791016 | Val Acc : 92.66389465332031 |\n",
            "Words found are : 3307\n",
            "Embedding(3307, 100)\n",
            "-----------------------------------------------------------1-fold of the model-----------------------------------------------------------\n"
          ]
        },
        {
          "output_type": "stream",
          "name": "stderr",
          "text": [
            "100%|██████████| 241/241 [00:01<00:00, 201.67it/s]\n"
          ]
        },
        {
          "output_type": "stream",
          "name": "stdout",
          "text": [
            "| Train Loss : 0.6921565870612026 |  Val Loss : 0.6903610813748023 | Train Acc : 52.47885513305664 | Val Acc : 50.39042282104492 |\n"
          ]
        },
        {
          "output_type": "stream",
          "name": "stderr",
          "text": [
            "100%|██████████| 241/241 [00:01<00:00, 203.13it/s]\n"
          ]
        },
        {
          "output_type": "stream",
          "name": "stdout",
          "text": [
            "| Train Loss : 0.6872200775472235 |  Val Loss : 0.6854802367899456 | Train Acc : 57.28041458129883 | Val Acc : 53.09735107421875 |\n"
          ]
        },
        {
          "output_type": "stream",
          "name": "stderr",
          "text": [
            "100%|██████████| 241/241 [00:01<00:00, 207.07it/s]\n"
          ]
        },
        {
          "output_type": "stream",
          "name": "stdout",
          "text": [
            "| Train Loss : 0.6488195419389083 |  Val Loss : 0.42564622791777795 | Train Acc : 66.01171112060547 | Val Acc : 88.755859375 |\n"
          ]
        },
        {
          "output_type": "stream",
          "name": "stderr",
          "text": [
            "100%|██████████| 241/241 [00:01<00:00, 202.43it/s]\n"
          ]
        },
        {
          "output_type": "stream",
          "name": "stdout",
          "text": [
            "| Train Loss : 0.3889487840870254 |  Val Loss : 0.3359197151169902 | Train Acc : 83.20104217529297 | Val Acc : 86.04893493652344 |\n"
          ]
        },
        {
          "output_type": "stream",
          "name": "stderr",
          "text": [
            "100%|██████████| 241/241 [00:01<00:00, 206.52it/s]\n"
          ]
        },
        {
          "output_type": "stream",
          "name": "stdout",
          "text": [
            "| Train Loss : 0.2580508063967226 |  Val Loss : 0.9310100198815975 | Train Acc : 90.18868255615234 | Val Acc : 71.57730102539062 |\n"
          ]
        },
        {
          "output_type": "stream",
          "name": "stderr",
          "text": [
            "100%|██████████| 241/241 [00:01<00:00, 201.22it/s]\n"
          ]
        },
        {
          "output_type": "stream",
          "name": "stdout",
          "text": [
            "| Train Loss : 0.2278292313460491 |  Val Loss : 0.2580185713239677 | Train Acc : 91.33377075195312 | Val Acc : 89.84904479980469 |\n"
          ]
        },
        {
          "output_type": "stream",
          "name": "stderr",
          "text": [
            "100%|██████████| 241/241 [00:01<00:00, 177.06it/s]\n"
          ]
        },
        {
          "output_type": "stream",
          "name": "stdout",
          "text": [
            "| Train Loss : 0.1913613817899954 |  Val Loss : 0.3037142375542771 | Train Acc : 92.97332763671875 | Val Acc : 88.13117980957031 |\n"
          ]
        },
        {
          "output_type": "stream",
          "name": "stderr",
          "text": [
            "100%|██████████| 241/241 [00:01<00:00, 154.77it/s]\n"
          ]
        },
        {
          "output_type": "stream",
          "name": "stdout",
          "text": [
            "| Train Loss : 0.1951772531168505 |  Val Loss : 0.18993464211789327 | Train Acc : 92.47885131835938 | Val Acc : 92.50390625 |\n"
          ]
        },
        {
          "output_type": "stream",
          "name": "stderr",
          "text": [
            "100%|██████████| 241/241 [00:01<00:00, 165.29it/s]\n"
          ]
        },
        {
          "output_type": "stream",
          "name": "stdout",
          "text": [
            "| Train Loss : 0.1750209759409426 |  Val Loss : 0.44255540732106213 | Train Acc : 93.14248657226562 | Val Acc : 77.92816925048828 |\n"
          ]
        },
        {
          "output_type": "stream",
          "name": "stderr",
          "text": [
            "100%|██████████| 241/241 [00:01<00:00, 201.63it/s]\n"
          ]
        },
        {
          "output_type": "stream",
          "name": "stdout",
          "text": [
            "| Train Loss : 0.17979307622323387 |  Val Loss : 0.1967232756041289 | Train Acc : 93.32466125488281 | Val Acc : 92.7121353149414 |\n"
          ]
        },
        {
          "output_type": "stream",
          "name": "stderr",
          "text": [
            "100%|██████████| 241/241 [00:01<00:00, 202.39it/s]\n"
          ]
        },
        {
          "output_type": "stream",
          "name": "stdout",
          "text": [
            "| Train Loss : 0.16746019015625535 |  Val Loss : 0.19225933280458818 | Train Acc : 93.61093139648438 | Val Acc : 92.29568481445312 |\n"
          ]
        },
        {
          "output_type": "stream",
          "name": "stderr",
          "text": [
            "100%|██████████| 241/241 [00:01<00:00, 205.03it/s]\n"
          ]
        },
        {
          "output_type": "stream",
          "name": "stdout",
          "text": [
            "| Train Loss : 0.16975029730610672 |  Val Loss : 0.42986831535962894 | Train Acc : 93.4027328491211 | Val Acc : 78.917236328125 |\n"
          ]
        },
        {
          "output_type": "stream",
          "name": "stderr",
          "text": [
            "100%|██████████| 241/241 [00:01<00:00, 200.46it/s]\n"
          ]
        },
        {
          "output_type": "stream",
          "name": "stdout",
          "text": [
            "| Train Loss : 0.1617990986453145 |  Val Loss : 0.18843384364834137 | Train Acc : 93.55888366699219 | Val Acc : 92.39979553222656 |\n"
          ]
        },
        {
          "output_type": "stream",
          "name": "stderr",
          "text": [
            "100%|██████████| 241/241 [00:01<00:00, 202.23it/s]\n"
          ]
        },
        {
          "output_type": "stream",
          "name": "stdout",
          "text": [
            "| Train Loss : 0.15051714939270688 |  Val Loss : 0.26402144984161324 | Train Acc : 94.05335235595703 | Val Acc : 91.25455474853516 |\n"
          ]
        },
        {
          "output_type": "stream",
          "name": "stderr",
          "text": [
            "100%|██████████| 241/241 [00:01<00:00, 204.20it/s]\n"
          ]
        },
        {
          "output_type": "stream",
          "name": "stdout",
          "text": [
            "| Train Loss : 0.14989872815919994 |  Val Loss : 0.20410332332822392 | Train Acc : 94.17046356201172 | Val Acc : 91.20250701904297 |\n"
          ]
        },
        {
          "output_type": "stream",
          "name": "stderr",
          "text": [
            "100%|██████████| 241/241 [00:01<00:00, 182.36it/s]\n"
          ]
        },
        {
          "output_type": "stream",
          "name": "stdout",
          "text": [
            "| Train Loss : 0.14670961522482087 |  Val Loss : 0.2001051923850593 | Train Acc : 94.4046859741211 | Val Acc : 92.7121353149414 |\n"
          ]
        },
        {
          "output_type": "stream",
          "name": "stderr",
          "text": [
            "100%|██████████| 241/241 [00:01<00:00, 156.25it/s]\n"
          ]
        },
        {
          "output_type": "stream",
          "name": "stdout",
          "text": [
            "| Train Loss : 0.14555634678939505 |  Val Loss : 0.15906236201082585 | Train Acc : 94.19648742675781 | Val Acc : 94.06559753417969 |\n"
          ]
        },
        {
          "output_type": "stream",
          "name": "stderr",
          "text": [
            "100%|██████████| 241/241 [00:01<00:00, 160.34it/s]\n"
          ]
        },
        {
          "output_type": "stream",
          "name": "stdout",
          "text": [
            "| Train Loss : 0.1436948153750805 |  Val Loss : 0.6289719075336858 | Train Acc : 94.3396224975586 | Val Acc : 71.47319030761719 |\n"
          ]
        },
        {
          "output_type": "stream",
          "name": "stderr",
          "text": [
            "100%|██████████| 241/241 [00:01<00:00, 202.38it/s]\n"
          ]
        },
        {
          "output_type": "stream",
          "name": "stdout",
          "text": [
            "| Train Loss : 0.1436950944155629 |  Val Loss : 0.28518254924100134 | Train Acc : 94.24854278564453 | Val Acc : 90.161376953125 |\n"
          ]
        },
        {
          "output_type": "stream",
          "name": "stderr",
          "text": [
            "100%|██████████| 241/241 [00:01<00:00, 200.72it/s]\n"
          ]
        },
        {
          "output_type": "stream",
          "name": "stdout",
          "text": [
            "| Train Loss : 0.1399890319118852 |  Val Loss : 0.15704195958381362 | Train Acc : 94.58686065673828 | Val Acc : 94.48204803466797 |\n"
          ]
        },
        {
          "output_type": "stream",
          "name": "stderr",
          "text": [
            "100%|██████████| 241/241 [00:01<00:00, 201.31it/s]\n"
          ]
        },
        {
          "output_type": "stream",
          "name": "stdout",
          "text": [
            "| Train Loss : 0.14034716304665507 |  Val Loss : 0.16373011901129167 | Train Acc : 94.54782104492188 | Val Acc : 93.909423828125 |\n"
          ]
        },
        {
          "output_type": "stream",
          "name": "stderr",
          "text": [
            "100%|██████████| 241/241 [00:01<00:00, 202.85it/s]\n"
          ]
        },
        {
          "output_type": "stream",
          "name": "stdout",
          "text": [
            "| Train Loss : 0.13329043490794004 |  Val Loss : 0.17084654686242373 | Train Acc : 94.93819427490234 | Val Acc : 94.32587432861328 |\n"
          ]
        },
        {
          "output_type": "stream",
          "name": "stderr",
          "text": [
            "100%|██████████| 241/241 [00:01<00:00, 201.95it/s]\n"
          ]
        },
        {
          "output_type": "stream",
          "name": "stdout",
          "text": [
            "| Train Loss : 0.134012169790107 |  Val Loss : 0.15473647218204614 | Train Acc : 94.95121002197266 | Val Acc : 94.37793731689453 |\n"
          ]
        },
        {
          "output_type": "stream",
          "name": "stderr",
          "text": [
            "100%|██████████| 241/241 [00:01<00:00, 204.71it/s]\n"
          ]
        },
        {
          "output_type": "stream",
          "name": "stdout",
          "text": [
            "| Train Loss : 0.1341911248014434 |  Val Loss : 0.2308075625346639 | Train Acc : 94.86011505126953 | Val Acc : 89.48464965820312 |\n"
          ]
        },
        {
          "output_type": "stream",
          "name": "stderr",
          "text": [
            "100%|██████████| 241/241 [00:01<00:00, 186.73it/s]\n"
          ]
        },
        {
          "output_type": "stream",
          "name": "stdout",
          "text": [
            "| Train Loss : 0.13376643608821703 |  Val Loss : 0.15690073441715988 | Train Acc : 94.84710693359375 | Val Acc : 94.01353454589844 |\n"
          ]
        },
        {
          "output_type": "stream",
          "name": "stderr",
          "text": [
            "100%|██████████| 241/241 [00:01<00:00, 151.06it/s]\n"
          ]
        },
        {
          "output_type": "stream",
          "name": "stdout",
          "text": [
            "| Train Loss : 0.13084963963414914 |  Val Loss : 0.15075519381381644 | Train Acc : 95.0292739868164 | Val Acc : 94.5861587524414 |\n"
          ]
        },
        {
          "output_type": "stream",
          "name": "stderr",
          "text": [
            "100%|██████████| 241/241 [00:01<00:00, 151.44it/s]\n"
          ]
        },
        {
          "output_type": "stream",
          "name": "stdout",
          "text": [
            "| Train Loss : 0.13040879602818498 |  Val Loss : 0.15450136669713158 | Train Acc : 94.99024200439453 | Val Acc : 94.01353454589844 |\n"
          ]
        },
        {
          "output_type": "stream",
          "name": "stderr",
          "text": [
            "100%|██████████| 241/241 [00:01<00:00, 198.25it/s]\n"
          ]
        },
        {
          "output_type": "stream",
          "name": "stdout",
          "text": [
            "| Train Loss : 0.12928394278536853 |  Val Loss : 0.19578989458457993 | Train Acc : 95.01626586914062 | Val Acc : 92.81624603271484 |\n"
          ]
        },
        {
          "output_type": "stream",
          "name": "stderr",
          "text": [
            "100%|██████████| 241/241 [00:01<00:00, 187.71it/s]\n"
          ]
        },
        {
          "output_type": "stream",
          "name": "stdout",
          "text": [
            "| Train Loss : 0.12862672733061778 |  Val Loss : 0.1733052662172816 | Train Acc : 94.93819427490234 | Val Acc : 93.70120239257812 |\n"
          ]
        },
        {
          "output_type": "stream",
          "name": "stderr",
          "text": [
            "100%|██████████| 241/241 [00:01<00:00, 186.02it/s]\n"
          ]
        },
        {
          "output_type": "stream",
          "name": "stdout",
          "text": [
            "| Train Loss : 0.1275150735311758 |  Val Loss : 0.1883515498015733 | Train Acc : 95.19844055175781 | Val Acc : 91.67100524902344 |\n",
            "Words found are : 3307\n",
            "Embedding(3307, 100)\n",
            "-----------------------------------------------------------2-fold of the model-----------------------------------------------------------\n"
          ]
        },
        {
          "output_type": "stream",
          "name": "stderr",
          "text": [
            "100%|██████████| 241/241 [00:01<00:00, 187.62it/s]\n"
          ]
        },
        {
          "output_type": "stream",
          "name": "stdout",
          "text": [
            "| Train Loss : 0.6923620431703953 |  Val Loss : 0.6903922806364493 | Train Acc : 51.86727523803711 | Val Acc : 51.37948989868164 |\n"
          ]
        },
        {
          "output_type": "stream",
          "name": "stderr",
          "text": [
            "100%|██████████| 241/241 [00:01<00:00, 192.52it/s]\n"
          ]
        },
        {
          "output_type": "stream",
          "name": "stdout",
          "text": [
            "| Train Loss : 0.68886899979144 |  Val Loss : 0.6859220135714597 | Train Acc : 54.88614273071289 | Val Acc : 61.32223129272461 |\n"
          ]
        },
        {
          "output_type": "stream",
          "name": "stderr",
          "text": [
            "100%|██████████| 241/241 [00:01<00:00, 194.90it/s]\n"
          ]
        },
        {
          "output_type": "stream",
          "name": "stdout",
          "text": [
            "| Train Loss : 0.6722520036827688 |  Val Loss : 0.6600436788248184 | Train Acc : 61.574493408203125 | Val Acc : 51.691829681396484 |\n"
          ]
        },
        {
          "output_type": "stream",
          "name": "stderr",
          "text": [
            "100%|██████████| 241/241 [00:01<00:00, 163.33it/s]\n"
          ]
        },
        {
          "output_type": "stream",
          "name": "stdout",
          "text": [
            "| Train Loss : 0.47210516858271523 |  Val Loss : 1.3293663749916365 | Train Acc : 79.38842010498047 | Val Acc : 48.620513916015625 |\n"
          ]
        },
        {
          "output_type": "stream",
          "name": "stderr",
          "text": [
            "100%|██████████| 241/241 [00:01<00:00, 139.54it/s]\n"
          ]
        },
        {
          "output_type": "stream",
          "name": "stdout",
          "text": [
            "| Train Loss : 0.5107502756486407 |  Val Loss : 0.8181565121273893 | Train Acc : 75.61483764648438 | Val Acc : 66.89225006103516 |\n"
          ]
        },
        {
          "output_type": "stream",
          "name": "stderr",
          "text": [
            "100%|██████████| 241/241 [00:01<00:00, 174.13it/s]\n"
          ]
        },
        {
          "output_type": "stream",
          "name": "stdout",
          "text": [
            "| Train Loss : 0.24928633922016613 |  Val Loss : 0.17865137083340535 | Train Acc : 90.370849609375 | Val Acc : 93.64913940429688 |\n"
          ]
        },
        {
          "output_type": "stream",
          "name": "stderr",
          "text": [
            "100%|██████████| 241/241 [00:01<00:00, 201.73it/s]\n"
          ]
        },
        {
          "output_type": "stream",
          "name": "stdout",
          "text": [
            "| Train Loss : 0.21718164524166478 |  Val Loss : 0.1692493147258431 | Train Acc : 91.42485046386719 | Val Acc : 93.59709167480469 |\n"
          ]
        },
        {
          "output_type": "stream",
          "name": "stderr",
          "text": [
            "100%|██████████| 241/241 [00:01<00:00, 200.44it/s]\n"
          ]
        },
        {
          "output_type": "stream",
          "name": "stdout",
          "text": [
            "| Train Loss : 0.2014126193386708 |  Val Loss : 0.14491390756087524 | Train Acc : 92.4007797241211 | Val Acc : 94.37793731689453 |\n"
          ]
        },
        {
          "output_type": "stream",
          "name": "stderr",
          "text": [
            "100%|██████████| 241/241 [00:01<00:00, 200.19it/s]\n"
          ]
        },
        {
          "output_type": "stream",
          "name": "stdout",
          "text": [
            "| Train Loss : 0.18548892100445233 |  Val Loss : 0.15303962119359996 | Train Acc : 92.63500213623047 | Val Acc : 94.06559753417969 |\n"
          ]
        },
        {
          "output_type": "stream",
          "name": "stderr",
          "text": [
            "100%|██████████| 241/241 [00:01<00:00, 198.83it/s]\n"
          ]
        },
        {
          "output_type": "stream",
          "name": "stdout",
          "text": [
            "| Train Loss : 0.18229109475446081 |  Val Loss : 0.16639584606491079 | Train Acc : 92.89524841308594 | Val Acc : 93.49298095703125 |\n"
          ]
        },
        {
          "output_type": "stream",
          "name": "stderr",
          "text": [
            "100%|██████████| 241/241 [00:01<00:00, 200.90it/s]\n"
          ]
        },
        {
          "output_type": "stream",
          "name": "stdout",
          "text": [
            "| Train Loss : 0.17627161987121026 |  Val Loss : 0.20578692848020888 | Train Acc : 92.99935150146484 | Val Acc : 91.15044403076172 |\n"
          ]
        },
        {
          "output_type": "stream",
          "name": "stderr",
          "text": [
            "100%|██████████| 241/241 [00:01<00:00, 203.95it/s]\n"
          ]
        },
        {
          "output_type": "stream",
          "name": "stdout",
          "text": [
            "| Train Loss : 0.16842781661990872 |  Val Loss : 0.1736525958314861 | Train Acc : 93.2205581665039 | Val Acc : 93.33680725097656 |\n"
          ]
        },
        {
          "output_type": "stream",
          "name": "stderr",
          "text": [
            "100%|██████████| 241/241 [00:01<00:00, 165.35it/s]\n"
          ]
        },
        {
          "output_type": "stream",
          "name": "stdout",
          "text": [
            "| Train Loss : 0.16679127578155206 |  Val Loss : 0.19101285758340525 | Train Acc : 93.62393951416016 | Val Acc : 92.34774017333984 |\n"
          ]
        },
        {
          "output_type": "stream",
          "name": "stderr",
          "text": [
            "100%|██████████| 241/241 [00:01<00:00, 153.24it/s]\n"
          ]
        },
        {
          "output_type": "stream",
          "name": "stdout",
          "text": [
            "| Train Loss : 0.16472461862670149 |  Val Loss : 0.14852625398168448 | Train Acc : 93.4677963256836 | Val Acc : 94.37793731689453 |\n"
          ]
        },
        {
          "output_type": "stream",
          "name": "stderr",
          "text": [
            "100%|██████████| 241/241 [00:01<00:00, 171.97it/s]\n"
          ]
        },
        {
          "output_type": "stream",
          "name": "stdout",
          "text": [
            "| Train Loss : 0.157682744558554 |  Val Loss : 0.4749272103252433 | Train Acc : 93.94924926757812 | Val Acc : 75.4294662475586 |\n"
          ]
        },
        {
          "output_type": "stream",
          "name": "stderr",
          "text": [
            "100%|██████████| 241/241 [00:01<00:00, 204.22it/s]\n"
          ]
        },
        {
          "output_type": "stream",
          "name": "stdout",
          "text": [
            "| Train Loss : 0.16258788019050308 |  Val Loss : 0.17112026213392428 | Train Acc : 93.57189178466797 | Val Acc : 94.16970825195312 |\n"
          ]
        },
        {
          "output_type": "stream",
          "name": "stderr",
          "text": [
            "100%|██████████| 241/241 [00:01<00:00, 204.20it/s]\n"
          ]
        },
        {
          "output_type": "stream",
          "name": "stdout",
          "text": [
            "| Train Loss : 0.1623057684922323 |  Val Loss : 0.19019920753973465 | Train Acc : 93.93624114990234 | Val Acc : 92.13951110839844 |\n"
          ]
        },
        {
          "output_type": "stream",
          "name": "stderr",
          "text": [
            "100%|██████████| 241/241 [00:01<00:00, 204.14it/s]\n"
          ]
        },
        {
          "output_type": "stream",
          "name": "stdout",
          "text": [
            "| Train Loss : 0.15326425254177703 |  Val Loss : 0.1747934957260808 | Train Acc : 94.2094955444336 | Val Acc : 93.12857818603516 |\n"
          ]
        },
        {
          "output_type": "stream",
          "name": "stderr",
          "text": [
            "100%|██████████| 241/241 [00:01<00:00, 204.96it/s]\n"
          ]
        },
        {
          "output_type": "stream",
          "name": "stdout",
          "text": [
            "| Train Loss : 0.14985809667822442 |  Val Loss : 0.20644075131537815 | Train Acc : 94.2745590209961 | Val Acc : 92.39979553222656 |\n"
          ]
        },
        {
          "output_type": "stream",
          "name": "stderr",
          "text": [
            "100%|██████████| 241/241 [00:01<00:00, 204.16it/s]\n"
          ]
        },
        {
          "output_type": "stream",
          "name": "stdout",
          "text": [
            "| Train Loss : 0.15001763393526815 |  Val Loss : 0.2547278232341133 | Train Acc : 94.3526382446289 | Val Acc : 87.6106185913086 |\n"
          ]
        },
        {
          "output_type": "stream",
          "name": "stderr",
          "text": [
            "100%|██████████| 241/241 [00:01<00:00, 204.70it/s]\n"
          ]
        },
        {
          "output_type": "stream",
          "name": "stdout",
          "text": [
            "| Train Loss : 0.1465501531246303 |  Val Loss : 0.17363730589444673 | Train Acc : 94.30058288574219 | Val Acc : 93.1806411743164 |\n"
          ]
        },
        {
          "output_type": "stream",
          "name": "stderr",
          "text": [
            "100%|██████████| 241/241 [00:01<00:00, 171.69it/s]\n"
          ]
        },
        {
          "output_type": "stream",
          "name": "stdout",
          "text": [
            "| Train Loss : 0.14566100678353938 |  Val Loss : 0.25586830518673376 | Train Acc : 94.19648742675781 | Val Acc : 89.64081573486328 |\n"
          ]
        },
        {
          "output_type": "stream",
          "name": "stderr",
          "text": [
            "100%|██████████| 241/241 [00:01<00:00, 159.02it/s]\n"
          ]
        },
        {
          "output_type": "stream",
          "name": "stdout",
          "text": [
            "| Train Loss : 0.1458309749115886 |  Val Loss : 0.21996934385833883 | Train Acc : 94.39167022705078 | Val Acc : 91.56689453125 |\n"
          ]
        },
        {
          "output_type": "stream",
          "name": "stderr",
          "text": [
            "100%|██████████| 241/241 [00:01<00:00, 174.68it/s]\n"
          ]
        },
        {
          "output_type": "stream",
          "name": "stdout",
          "text": [
            "| Train Loss : 0.14383666042866222 |  Val Loss : 0.13909512067495813 | Train Acc : 94.62589263916016 | Val Acc : 95.26288604736328 |\n"
          ]
        },
        {
          "output_type": "stream",
          "name": "stderr",
          "text": [
            "100%|██████████| 241/241 [00:01<00:00, 201.97it/s]\n"
          ]
        },
        {
          "output_type": "stream",
          "name": "stdout",
          "text": [
            "| Train Loss : 0.14306024999376543 |  Val Loss : 0.1409366520108119 | Train Acc : 94.50878143310547 | Val Acc : 94.32587432861328 |\n"
          ]
        },
        {
          "output_type": "stream",
          "name": "stderr",
          "text": [
            "100%|██████████| 241/241 [00:01<00:00, 205.90it/s]\n"
          ]
        },
        {
          "output_type": "stream",
          "name": "stdout",
          "text": [
            "| Train Loss : 0.14286745261587566 |  Val Loss : 0.1442287112695889 | Train Acc : 94.4046859741211 | Val Acc : 94.27381896972656 |\n"
          ]
        },
        {
          "output_type": "stream",
          "name": "stderr",
          "text": [
            "100%|██████████| 241/241 [00:01<00:00, 202.83it/s]\n"
          ]
        },
        {
          "output_type": "stream",
          "name": "stdout",
          "text": [
            "| Train Loss : 0.13861278978275787 |  Val Loss : 0.14734363089737865 | Train Acc : 94.4827651977539 | Val Acc : 94.5861587524414 |\n"
          ]
        },
        {
          "output_type": "stream",
          "name": "stderr",
          "text": [
            "100%|██████████| 241/241 [00:01<00:00, 201.26it/s]\n"
          ]
        },
        {
          "output_type": "stream",
          "name": "stdout",
          "text": [
            "| Train Loss : 0.13955615348411057 |  Val Loss : 0.1939492741270492 | Train Acc : 94.58686065673828 | Val Acc : 92.50390625 |\n"
          ]
        },
        {
          "output_type": "stream",
          "name": "stderr",
          "text": [
            "100%|██████████| 241/241 [00:01<00:00, 197.37it/s]\n"
          ]
        },
        {
          "output_type": "stream",
          "name": "stdout",
          "text": [
            "| Train Loss : 0.13594630500307778 |  Val Loss : 0.17540691742641518 | Train Acc : 94.71698760986328 | Val Acc : 92.972412109375 |\n"
          ]
        },
        {
          "output_type": "stream",
          "name": "stderr",
          "text": [
            "100%|██████████| 241/241 [00:01<00:00, 205.14it/s]\n"
          ]
        },
        {
          "output_type": "stream",
          "name": "stdout",
          "text": [
            "| Train Loss : 0.13760493029304038 |  Val Loss : 0.2883884637709416 | Train Acc : 94.72999572753906 | Val Acc : 87.66268157958984 |\n",
            "Words found are : 3307\n",
            "Embedding(3307, 100)\n",
            "-----------------------------------------------------------3-fold of the model-----------------------------------------------------------\n"
          ]
        },
        {
          "output_type": "stream",
          "name": "stderr",
          "text": [
            "100%|██████████| 241/241 [00:01<00:00, 174.22it/s]\n"
          ]
        },
        {
          "output_type": "stream",
          "name": "stdout",
          "text": [
            "| Train Loss : 0.6923754127442876 |  Val Loss : 0.6900135878161302 | Train Acc : 52.036434173583984 | Val Acc : 54.919315338134766 |\n"
          ]
        },
        {
          "output_type": "stream",
          "name": "stderr",
          "text": [
            "100%|██████████| 241/241 [00:01<00:00, 155.36it/s]\n"
          ]
        },
        {
          "output_type": "stream",
          "name": "stdout",
          "text": [
            "| Train Loss : 0.6865921794553818 |  Val Loss : 0.6797336804128327 | Train Acc : 57.124267578125 | Val Acc : 64.34149169921875 |\n"
          ]
        },
        {
          "output_type": "stream",
          "name": "stderr",
          "text": [
            "100%|██████████| 241/241 [00:01<00:00, 164.43it/s]\n"
          ]
        },
        {
          "output_type": "stream",
          "name": "stdout",
          "text": [
            "| Train Loss : 0.6258994365599377 |  Val Loss : 0.32599031714211524 | Train Acc : 68.22381591796875 | Val Acc : 92.13951110839844 |\n"
          ]
        },
        {
          "output_type": "stream",
          "name": "stderr",
          "text": [
            "100%|██████████| 241/241 [00:01<00:00, 198.31it/s]\n"
          ]
        },
        {
          "output_type": "stream",
          "name": "stdout",
          "text": [
            "| Train Loss : 0.37135584121139775 |  Val Loss : 0.3526394444652084 | Train Acc : 84.7234878540039 | Val Acc : 85.99687957763672 |\n"
          ]
        },
        {
          "output_type": "stream",
          "name": "stderr",
          "text": [
            "100%|██████████| 241/241 [00:01<00:00, 201.34it/s]\n"
          ]
        },
        {
          "output_type": "stream",
          "name": "stdout",
          "text": [
            "| Train Loss : 0.24760839098030743 |  Val Loss : 0.26355927892393866 | Train Acc : 90.44892883300781 | Val Acc : 91.3066177368164 |\n"
          ]
        },
        {
          "output_type": "stream",
          "name": "stderr",
          "text": [
            "100%|██████████| 241/241 [00:01<00:00, 202.79it/s]\n"
          ]
        },
        {
          "output_type": "stream",
          "name": "stdout",
          "text": [
            "| Train Loss : 0.22001026663480833 |  Val Loss : 0.7046759887823892 | Train Acc : 91.76317596435547 | Val Acc : 76.62676239013672 |\n"
          ]
        },
        {
          "output_type": "stream",
          "name": "stderr",
          "text": [
            "100%|██████████| 241/241 [00:01<00:00, 202.96it/s]\n"
          ]
        },
        {
          "output_type": "stream",
          "name": "stdout",
          "text": [
            "| Train Loss : 0.21098133989391035 |  Val Loss : 0.4336547943986933 | Train Acc : 91.86727142333984 | Val Acc : 83.28995513916016 |\n"
          ]
        },
        {
          "output_type": "stream",
          "name": "stderr",
          "text": [
            "100%|██████████| 241/241 [00:01<00:00, 204.31it/s]\n"
          ]
        },
        {
          "output_type": "stream",
          "name": "stdout",
          "text": [
            "| Train Loss : 0.19292584172145222 |  Val Loss : 1.4285519592219624 | Train Acc : 92.59596252441406 | Val Acc : 54.08641815185547 |\n"
          ]
        },
        {
          "output_type": "stream",
          "name": "stderr",
          "text": [
            "100%|██████████| 241/241 [00:01<00:00, 204.19it/s]\n"
          ]
        },
        {
          "output_type": "stream",
          "name": "stdout",
          "text": [
            "| Train Loss : 0.1917693718283806 |  Val Loss : 0.1864196576417086 | Train Acc : 92.42680358886719 | Val Acc : 93.28475189208984 |\n"
          ]
        },
        {
          "output_type": "stream",
          "name": "stderr",
          "text": [
            "100%|██████████| 241/241 [00:01<00:00, 157.50it/s]\n"
          ]
        },
        {
          "output_type": "stream",
          "name": "stdout",
          "text": [
            "| Train Loss : 0.18234630103259988 |  Val Loss : 0.17285479322977107 | Train Acc : 93.02537536621094 | Val Acc : 93.23269653320312 |\n"
          ]
        },
        {
          "output_type": "stream",
          "name": "stderr",
          "text": [
            "100%|██████████| 241/241 [00:01<00:00, 149.69it/s]\n"
          ]
        },
        {
          "output_type": "stream",
          "name": "stdout",
          "text": [
            "| Train Loss : 0.1693724693361459 |  Val Loss : 0.17067024341063503 | Train Acc : 93.31165313720703 | Val Acc : 93.85736846923828 |\n"
          ]
        },
        {
          "output_type": "stream",
          "name": "stderr",
          "text": [
            "100%|██████████| 241/241 [00:01<00:00, 183.97it/s]\n"
          ]
        },
        {
          "output_type": "stream",
          "name": "stdout",
          "text": [
            "| Train Loss : 0.1692219601952572 |  Val Loss : 0.3229246107645174 | Train Acc : 93.29862976074219 | Val Acc : 87.350341796875 |\n"
          ]
        },
        {
          "output_type": "stream",
          "name": "stderr",
          "text": [
            "100%|██████████| 241/241 [00:01<00:00, 204.35it/s]\n"
          ]
        },
        {
          "output_type": "stream",
          "name": "stdout",
          "text": [
            "| Train Loss : 0.1660202083632922 |  Val Loss : 0.2249181920324124 | Train Acc : 93.64996337890625 | Val Acc : 91.51483917236328 |\n"
          ]
        },
        {
          "output_type": "stream",
          "name": "stderr",
          "text": [
            "100%|██████████| 241/241 [00:01<00:00, 203.41it/s]\n"
          ]
        },
        {
          "output_type": "stream",
          "name": "stdout",
          "text": [
            "| Train Loss : 0.1603050373867881 |  Val Loss : 1.3187767182210657 | Train Acc : 94.00130462646484 | Val Acc : 55.439876556396484 |\n"
          ]
        },
        {
          "output_type": "stream",
          "name": "stderr",
          "text": [
            "100%|██████████| 241/241 [00:01<00:00, 202.83it/s]\n"
          ]
        },
        {
          "output_type": "stream",
          "name": "stdout",
          "text": [
            "| Train Loss : 0.16857738193359637 |  Val Loss : 0.17564286144895364 | Train Acc : 93.376708984375 | Val Acc : 93.44091796875 |\n"
          ]
        },
        {
          "output_type": "stream",
          "name": "stderr",
          "text": [
            "100%|██████████| 241/241 [00:01<00:00, 198.83it/s]\n"
          ]
        },
        {
          "output_type": "stream",
          "name": "stdout",
          "text": [
            "| Train Loss : 0.1580271118412021 |  Val Loss : 0.19694325397443657 | Train Acc : 93.71502685546875 | Val Acc : 92.60802459716797 |\n"
          ]
        },
        {
          "output_type": "stream",
          "name": "stderr",
          "text": [
            "100%|██████████| 241/241 [00:01<00:00, 200.47it/s]\n"
          ]
        },
        {
          "output_type": "stream",
          "name": "stdout",
          "text": [
            "| Train Loss : 0.15483214679182003 |  Val Loss : 0.16230190451521637 | Train Acc : 94.04033660888672 | Val Acc : 93.59709167480469 |\n"
          ]
        },
        {
          "output_type": "stream",
          "name": "stderr",
          "text": [
            "100%|██████████| 241/241 [00:01<00:00, 196.90it/s]\n"
          ]
        },
        {
          "output_type": "stream",
          "name": "stdout",
          "text": [
            "| Train Loss : 0.15221906325349036 |  Val Loss : 0.16517245477935197 | Train Acc : 94.1574478149414 | Val Acc : 93.70120239257812 |\n"
          ]
        },
        {
          "output_type": "stream",
          "name": "stderr",
          "text": [
            "100%|██████████| 241/241 [00:01<00:00, 153.79it/s]\n"
          ]
        },
        {
          "output_type": "stream",
          "name": "stdout",
          "text": [
            "| Train Loss : 0.15496037668786658 |  Val Loss : 0.18844299809849652 | Train Acc : 93.80611419677734 | Val Acc : 93.44091796875 |\n"
          ]
        },
        {
          "output_type": "stream",
          "name": "stderr",
          "text": [
            "100%|██████████| 241/241 [00:01<00:00, 148.14it/s]\n"
          ]
        },
        {
          "output_type": "stream",
          "name": "stdout",
          "text": [
            "| Train Loss : 0.15016810798226196 |  Val Loss : 0.36987298512942834 | Train Acc : 94.0923843383789 | Val Acc : 83.602294921875 |\n"
          ]
        },
        {
          "output_type": "stream",
          "name": "stderr",
          "text": [
            "100%|██████████| 241/241 [00:01<00:00, 182.12it/s]\n"
          ]
        },
        {
          "output_type": "stream",
          "name": "stdout",
          "text": [
            "| Train Loss : 0.14739561933077625 |  Val Loss : 0.15256348660322758 | Train Acc : 94.23552703857422 | Val Acc : 93.80531311035156 |\n"
          ]
        },
        {
          "output_type": "stream",
          "name": "stderr",
          "text": [
            "100%|██████████| 241/241 [00:01<00:00, 204.57it/s]\n"
          ]
        },
        {
          "output_type": "stream",
          "name": "stdout",
          "text": [
            "| Train Loss : 0.14962981441818668 |  Val Loss : 0.1809749324776461 | Train Acc : 94.24854278564453 | Val Acc : 93.33680725097656 |\n"
          ]
        },
        {
          "output_type": "stream",
          "name": "stderr",
          "text": [
            "100%|██████████| 241/241 [00:01<00:00, 203.55it/s]\n"
          ]
        },
        {
          "output_type": "stream",
          "name": "stdout",
          "text": [
            "| Train Loss : 0.14623905840095328 |  Val Loss : 0.25044474537731115 | Train Acc : 94.49577331542969 | Val Acc : 90.21343231201172 |\n"
          ]
        },
        {
          "output_type": "stream",
          "name": "stderr",
          "text": [
            "100%|██████████| 241/241 [00:01<00:00, 200.18it/s]\n"
          ]
        },
        {
          "output_type": "stream",
          "name": "stdout",
          "text": [
            "| Train Loss : 0.1417552333443911 |  Val Loss : 0.18177709606475098 | Train Acc : 94.43070983886719 | Val Acc : 93.59709167480469 |\n"
          ]
        },
        {
          "output_type": "stream",
          "name": "stderr",
          "text": [
            "100%|██████████| 241/241 [00:01<00:00, 201.36it/s]\n"
          ]
        },
        {
          "output_type": "stream",
          "name": "stdout",
          "text": [
            "| Train Loss : 0.1391018934504274 |  Val Loss : 0.32014039217774165 | Train Acc : 94.41769409179688 | Val Acc : 86.8818359375 |\n"
          ]
        },
        {
          "output_type": "stream",
          "name": "stderr",
          "text": [
            "100%|██████████| 241/241 [00:01<00:00, 205.21it/s]\n"
          ]
        },
        {
          "output_type": "stream",
          "name": "stdout",
          "text": [
            "| Train Loss : 0.14744835213888932 |  Val Loss : 0.14926912116834856 | Train Acc : 94.30058288574219 | Val Acc : 94.01353454589844 |\n"
          ]
        },
        {
          "output_type": "stream",
          "name": "stderr",
          "text": [
            "100%|██████████| 241/241 [00:01<00:00, 202.92it/s]\n"
          ]
        },
        {
          "output_type": "stream",
          "name": "stdout",
          "text": [
            "| Train Loss : 0.13957654862514973 |  Val Loss : 0.15030257389112292 | Train Acc : 94.74300384521484 | Val Acc : 93.80531311035156 |\n"
          ]
        },
        {
          "output_type": "stream",
          "name": "stderr",
          "text": [
            "100%|██████████| 241/241 [00:01<00:00, 165.28it/s]\n"
          ]
        },
        {
          "output_type": "stream",
          "name": "stdout",
          "text": [
            "| Train Loss : 0.1355246163714403 |  Val Loss : 0.15816641549198251 | Train Acc : 94.79505157470703 | Val Acc : 94.69026947021484 |\n"
          ]
        },
        {
          "output_type": "stream",
          "name": "stderr",
          "text": [
            "100%|██████████| 241/241 [00:01<00:00, 152.12it/s]\n"
          ]
        },
        {
          "output_type": "stream",
          "name": "stdout",
          "text": [
            "| Train Loss : 0.13730759738605752 |  Val Loss : 0.14875586516379471 | Train Acc : 94.93819427490234 | Val Acc : 94.06559753417969 |\n"
          ]
        },
        {
          "output_type": "stream",
          "name": "stderr",
          "text": [
            "100%|██████████| 241/241 [00:01<00:00, 179.17it/s]\n"
          ]
        },
        {
          "output_type": "stream",
          "name": "stdout",
          "text": [
            "| Train Loss : 0.13748696961027504 |  Val Loss : 0.17076916107786688 | Train Acc : 94.74300384521484 | Val Acc : 93.75325775146484 |\n",
            "Words found are : 3307\n",
            "Embedding(3307, 100)\n",
            "-----------------------------------------------------------4-fold of the model-----------------------------------------------------------\n"
          ]
        },
        {
          "output_type": "stream",
          "name": "stderr",
          "text": [
            "100%|██████████| 241/241 [00:01<00:00, 204.14it/s]\n"
          ]
        },
        {
          "output_type": "stream",
          "name": "stdout",
          "text": [
            "| Train Loss : 0.6918332666022947 |  Val Loss : 0.6900146852117972 | Train Acc : 52.9212760925293 | Val Acc : 56.94950866699219 |\n"
          ]
        },
        {
          "output_type": "stream",
          "name": "stderr",
          "text": [
            "100%|██████████| 241/241 [00:01<00:00, 204.14it/s]\n"
          ]
        },
        {
          "output_type": "stream",
          "name": "stdout",
          "text": [
            "| Train Loss : 0.6854383471962998 |  Val Loss : 0.6814624451833861 | Train Acc : 58.24333572387695 | Val Acc : 53.20146179199219 |\n"
          ]
        },
        {
          "output_type": "stream",
          "name": "stderr",
          "text": [
            "100%|██████████| 241/241 [00:01<00:00, 203.40it/s]\n"
          ]
        },
        {
          "output_type": "stream",
          "name": "stdout",
          "text": [
            "| Train Loss : 0.6125864751903594 |  Val Loss : 0.48193637410034307 | Train Acc : 68.32791137695312 | Val Acc : 74.90890502929688 |\n"
          ]
        },
        {
          "output_type": "stream",
          "name": "stderr",
          "text": [
            "100%|██████████| 241/241 [00:01<00:00, 200.65it/s]\n"
          ]
        },
        {
          "output_type": "stream",
          "name": "stdout",
          "text": [
            "| Train Loss : 0.3693670300389934 |  Val Loss : 0.2875596387355449 | Train Acc : 85.08783721923828 | Val Acc : 89.79698181152344 |\n"
          ]
        },
        {
          "output_type": "stream",
          "name": "stderr",
          "text": [
            "100%|██████████| 241/241 [00:01<00:00, 202.85it/s]\n"
          ]
        },
        {
          "output_type": "stream",
          "name": "stdout",
          "text": [
            "| Train Loss : 0.2731970994995644 |  Val Loss : 0.18762516404876853 | Train Acc : 89.5250473022461 | Val Acc : 93.28475189208984 |\n"
          ]
        },
        {
          "output_type": "stream",
          "name": "stderr",
          "text": [
            "100%|██████████| 241/241 [00:01<00:00, 202.73it/s]\n"
          ]
        },
        {
          "output_type": "stream",
          "name": "stdout",
          "text": [
            "| Train Loss : 0.22282299442615458 |  Val Loss : 0.17743564076442417 | Train Acc : 91.69811248779297 | Val Acc : 93.38886260986328 |\n"
          ]
        },
        {
          "output_type": "stream",
          "name": "stderr",
          "text": [
            "100%|██████████| 241/241 [00:01<00:00, 168.19it/s]\n"
          ]
        },
        {
          "output_type": "stream",
          "name": "stdout",
          "text": [
            "| Train Loss : 0.20288461483966513 |  Val Loss : 0.1636009829614325 | Train Acc : 92.24462890625 | Val Acc : 93.54502868652344 |\n"
          ]
        },
        {
          "output_type": "stream",
          "name": "stderr",
          "text": [
            "100%|██████████| 241/241 [00:01<00:00, 150.11it/s]\n"
          ]
        },
        {
          "output_type": "stream",
          "name": "stdout",
          "text": [
            "| Train Loss : 0.18871008012402576 |  Val Loss : 0.1971879924631996 | Train Acc : 92.81717681884766 | Val Acc : 92.29568481445312 |\n"
          ]
        },
        {
          "output_type": "stream",
          "name": "stderr",
          "text": [
            "100%|██████████| 241/241 [00:01<00:00, 176.26it/s]\n"
          ]
        },
        {
          "output_type": "stream",
          "name": "stdout",
          "text": [
            "| Train Loss : 0.1859018107676223 |  Val Loss : 0.1594788145132359 | Train Acc : 92.79115295410156 | Val Acc : 93.75325775146484 |\n"
          ]
        },
        {
          "output_type": "stream",
          "name": "stderr",
          "text": [
            "100%|██████████| 241/241 [00:01<00:00, 203.20it/s]\n"
          ]
        },
        {
          "output_type": "stream",
          "name": "stdout",
          "text": [
            "| Train Loss : 0.18071224650703782 |  Val Loss : 0.26751619267128585 | Train Acc : 92.99935150146484 | Val Acc : 88.59969329833984 |\n"
          ]
        },
        {
          "output_type": "stream",
          "name": "stderr",
          "text": [
            "100%|██████████| 241/241 [00:01<00:00, 200.02it/s]\n"
          ]
        },
        {
          "output_type": "stream",
          "name": "stdout",
          "text": [
            "| Train Loss : 0.17257574816842164 |  Val Loss : 0.6748277221354019 | Train Acc : 93.19454193115234 | Val Acc : 81.15565490722656 |\n"
          ]
        },
        {
          "output_type": "stream",
          "name": "stderr",
          "text": [
            "100%|██████████| 241/241 [00:01<00:00, 200.64it/s]\n"
          ]
        },
        {
          "output_type": "stream",
          "name": "stdout",
          "text": [
            "| Train Loss : 0.167042283739994 |  Val Loss : 0.20329955086899357 | Train Acc : 93.57189178466797 | Val Acc : 91.61895751953125 |\n"
          ]
        },
        {
          "output_type": "stream",
          "name": "stderr",
          "text": [
            "100%|██████████| 241/241 [00:01<00:00, 196.87it/s]\n"
          ]
        },
        {
          "output_type": "stream",
          "name": "stdout",
          "text": [
            "| Train Loss : 0.16776262137047562 |  Val Loss : 0.1505344309948311 | Train Acc : 93.05139923095703 | Val Acc : 93.85736846923828 |\n"
          ]
        },
        {
          "output_type": "stream",
          "name": "stderr",
          "text": [
            "100%|██████████| 241/241 [00:01<00:00, 201.05it/s]\n"
          ]
        },
        {
          "output_type": "stream",
          "name": "stdout",
          "text": [
            "| Train Loss : 0.16764503377565487 |  Val Loss : 0.17204709528697648 | Train Acc : 93.36369323730469 | Val Acc : 92.81624603271484 |\n"
          ]
        },
        {
          "output_type": "stream",
          "name": "stderr",
          "text": [
            "100%|██████████| 241/241 [00:01<00:00, 202.99it/s]\n"
          ]
        },
        {
          "output_type": "stream",
          "name": "stdout",
          "text": [
            "| Train Loss : 0.156584961348678 |  Val Loss : 0.1474604821470137 | Train Acc : 93.87117767333984 | Val Acc : 94.63821411132812 |\n"
          ]
        },
        {
          "output_type": "stream",
          "name": "stderr",
          "text": [
            "100%|██████████| 241/241 [00:01<00:00, 164.64it/s]\n"
          ]
        },
        {
          "output_type": "stream",
          "name": "stdout",
          "text": [
            "| Train Loss : 0.15761064435649244 |  Val Loss : 0.1555734961131226 | Train Acc : 94.14443969726562 | Val Acc : 93.28475189208984 |\n"
          ]
        },
        {
          "output_type": "stream",
          "name": "stderr",
          "text": [
            "100%|██████████| 241/241 [00:01<00:00, 156.87it/s]\n"
          ]
        },
        {
          "output_type": "stream",
          "name": "stdout",
          "text": [
            "| Train Loss : 0.15889714181268066 |  Val Loss : 0.14340323070912606 | Train Acc : 93.79310607910156 | Val Acc : 94.01353454589844 |\n"
          ]
        },
        {
          "output_type": "stream",
          "name": "stderr",
          "text": [
            "100%|██████████| 241/241 [00:01<00:00, 173.53it/s]\n"
          ]
        },
        {
          "output_type": "stream",
          "name": "stdout",
          "text": [
            "| Train Loss : 0.15110426591872858 |  Val Loss : 0.148663914156908 | Train Acc : 94.23552703857422 | Val Acc : 94.53409576416016 |\n"
          ]
        },
        {
          "output_type": "stream",
          "name": "stderr",
          "text": [
            "100%|██████████| 241/241 [00:01<00:00, 203.36it/s]\n"
          ]
        },
        {
          "output_type": "stream",
          "name": "stdout",
          "text": [
            "| Train Loss : 0.15323597353119003 |  Val Loss : 0.3225400629326098 | Train Acc : 94.19648742675781 | Val Acc : 87.5585708618164 |\n"
          ]
        },
        {
          "output_type": "stream",
          "name": "stderr",
          "text": [
            "100%|██████████| 241/241 [00:01<00:00, 199.50it/s]\n"
          ]
        },
        {
          "output_type": "stream",
          "name": "stdout",
          "text": [
            "| Train Loss : 0.1526160869376568 |  Val Loss : 0.1442447816747018 | Train Acc : 94.19648742675781 | Val Acc : 94.16970825195312 |\n"
          ]
        },
        {
          "output_type": "stream",
          "name": "stderr",
          "text": [
            "100%|██████████| 241/241 [00:01<00:00, 203.36it/s]\n"
          ]
        },
        {
          "output_type": "stream",
          "name": "stdout",
          "text": [
            "| Train Loss : 0.16003933308873913 |  Val Loss : 0.18560185726733955 | Train Acc : 93.67599487304688 | Val Acc : 93.33680725097656 |\n"
          ]
        },
        {
          "output_type": "stream",
          "name": "stderr",
          "text": [
            "100%|██████████| 241/241 [00:01<00:00, 201.87it/s]\n"
          ]
        },
        {
          "output_type": "stream",
          "name": "stdout",
          "text": [
            "| Train Loss : 0.16283875432279912 |  Val Loss : 0.15598674736944168 | Train Acc : 93.92322540283203 | Val Acc : 94.22176361083984 |\n"
          ]
        },
        {
          "output_type": "stream",
          "name": "stderr",
          "text": [
            "100%|██████████| 241/241 [00:01<00:00, 205.37it/s]\n"
          ]
        },
        {
          "output_type": "stream",
          "name": "stdout",
          "text": [
            "| Train Loss : 0.14883976327031173 |  Val Loss : 0.18941156222508762 | Train Acc : 94.26155090332031 | Val Acc : 92.34774017333984 |\n"
          ]
        },
        {
          "output_type": "stream",
          "name": "stderr",
          "text": [
            "100%|██████████| 241/241 [00:01<00:00, 200.23it/s]\n"
          ]
        },
        {
          "output_type": "stream",
          "name": "stdout",
          "text": [
            "| Train Loss : 0.14584168251397825 |  Val Loss : 0.14164754152608253 | Train Acc : 94.26155090332031 | Val Acc : 94.74232482910156 |\n"
          ]
        },
        {
          "output_type": "stream",
          "name": "stderr",
          "text": [
            "100%|██████████| 241/241 [00:01<00:00, 172.07it/s]\n"
          ]
        },
        {
          "output_type": "stream",
          "name": "stdout",
          "text": [
            "| Train Loss : 0.1391835555172463 |  Val Loss : 0.1395702489275041 | Train Acc : 94.70397186279297 | Val Acc : 94.74232482910156 |\n"
          ]
        },
        {
          "output_type": "stream",
          "name": "stderr",
          "text": [
            "100%|██████████| 241/241 [00:01<00:00, 156.21it/s]\n"
          ]
        },
        {
          "output_type": "stream",
          "name": "stdout",
          "text": [
            "| Train Loss : 0.14046527016229282 |  Val Loss : 0.13874408497268073 | Train Acc : 94.58686065673828 | Val Acc : 94.53409576416016 |\n"
          ]
        },
        {
          "output_type": "stream",
          "name": "stderr",
          "text": [
            "100%|██████████| 241/241 [00:01<00:00, 167.21it/s]\n"
          ]
        },
        {
          "output_type": "stream",
          "name": "stdout",
          "text": [
            "| Train Loss : 0.13903042386942188 |  Val Loss : 0.1772190828781957 | Train Acc : 94.62589263916016 | Val Acc : 93.02446746826172 |\n"
          ]
        },
        {
          "output_type": "stream",
          "name": "stderr",
          "text": [
            "100%|██████████| 241/241 [00:01<00:00, 203.56it/s]\n"
          ]
        },
        {
          "output_type": "stream",
          "name": "stdout",
          "text": [
            "| Train Loss : 0.14003862207325232 |  Val Loss : 0.1436735811734932 | Train Acc : 94.72999572753906 | Val Acc : 94.74232482910156 |\n"
          ]
        },
        {
          "output_type": "stream",
          "name": "stderr",
          "text": [
            "100%|██████████| 241/241 [00:01<00:00, 199.21it/s]\n"
          ]
        },
        {
          "output_type": "stream",
          "name": "stdout",
          "text": [
            "| Train Loss : 0.13377517483881254 |  Val Loss : 0.2670791516886982 | Train Acc : 94.74300384521484 | Val Acc : 90.161376953125 |\n"
          ]
        },
        {
          "output_type": "stream",
          "name": "stderr",
          "text": [
            "100%|██████████| 241/241 [00:01<00:00, 201.40it/s]\n"
          ]
        },
        {
          "output_type": "stream",
          "name": "stdout",
          "text": [
            "| Train Loss : 0.13690204026253874 |  Val Loss : 0.18274424095162498 | Train Acc : 94.80806732177734 | Val Acc : 92.60802459716797 |\n"
          ]
        }
      ],
      "source": [
        "from sklearn.model_selection import StratifiedKFold\n",
        "from sklearn.model_selection import KFold\n",
        "from torch.utils.data import SubsetRandomSampler\n",
        "from torch.optim import Adam\n",
        "from tqdm import tqdm\n",
        "from torch.utils.data import DataLoader\n",
        "import matplotlib.pyplot as plt\n",
        "\n",
        "\n",
        "# sfk = StratifiedKFold(n_splits = config.FOLDS)\n",
        "kfold = KFold(n_splits = config.FOLDS)\n",
        "model_state_dicts = {}\n",
        "\n",
        "for fold, (train_idx, val_idx) in enumerate(kfold.split(np.arange(len(dataset)))):\n",
        "\n",
        "    train_sampler = SubsetRandomSampler(train_idx)\n",
        "    val_sampler = SubsetRandomSampler(val_idx)\n",
        "\n",
        "    train_loader = DataLoader(dataset, batch_size = config.BATCH_SIZE, sampler = train_sampler, collate_fn = MyCollate(0, config.MAX_LEN))\n",
        "    val_loader = DataLoader(dataset, batch_size = config.BATCH_SIZE, sampler = val_sampler, collate_fn = MyCollate(0, config.MAX_LEN))\n",
        "\n",
        "    VOCAB_SIZE = len(dataset.source_vocab)\n",
        "    HIDDEN_DIM = 128\n",
        "    OUTPUT_DIM = 1\n",
        "    VOCAB = list(dataset.source_vocab.stoi)\n",
        "\n",
        "    embedding_layer = get_emb_layer_with_weights(target_vocab = VOCAB, emb_model = fasttext_model, trainable = False)\n",
        "\n",
        "    model = Model(VOCAB_SIZE, config.EMB_DIM, HIDDEN_DIM, OUTPUT_DIM, embedding_layer)\n",
        "    model = model.to(config.DEVICE)\n",
        "\n",
        "#     model\n",
        "#     model = Model(2, len(dataset.source_vocab), 128, 100, 1 ).to(config.DEVICE)\n",
        "#     hidden = model.init_hidden(config.BATCH_SIZE)\n",
        "#     model.hidden = hidden\n",
        "\n",
        "    loss_fn = nn.BCELoss()\n",
        "    optimizer = torch.optim.SGD(model.parameters(), lr = 0.1)\n",
        "\n",
        "    train_losses = []\n",
        "    val_losses = []\n",
        "    train_accs = []\n",
        "    val_accs = []\n",
        "\n",
        "    print(f\"-----------------------------------------------------------{fold}-fold of the model-----------------------------------------------------------\")\n",
        "    for epoch in range(config.EPOCHS):\n",
        "        train_loss, train_correct = train_epochs(train_loader, model, loss_fn, optimizer)\n",
        "        val_loss, val_correct = val_epochs(val_loader, model, loss_fn)\n",
        "\n",
        "        train_loss = train_loss/len(train_loader.sampler)\n",
        "        val_loss = val_loss/len(val_loader.sampler)\n",
        "        train_acc = (train_correct/len(train_loader.sampler))*100\n",
        "        val_acc = (val_correct/len(val_loader.sampler))*100\n",
        "\n",
        "        train_losses.append(train_loss)\n",
        "        val_losses.append(val_loss)\n",
        "        train_accs.append(train_acc.cpu().numpy().tolist())\n",
        "        val_accs.append(val_acc.cpu().numpy().tolist())\n",
        "\n",
        "        print(f\"| Train Loss : {train_loss} |\", end = \" \")\n",
        "        print(f\" Val Loss : {val_loss} |\", end = \" \")\n",
        "        print(f\"Train Acc : {train_acc} |\", end = \" \")\n",
        "        print(f\"Val Acc : {val_acc} |\")\n",
        "\n",
        "\n",
        "    # Saving the state dicts for the model\n",
        "    model_state_dicts.update({f\"LSTM-Model-for-{fold}\" : model.state_dict(),\n",
        "                             f\"Model-Optimizer-for-{fold}\" : optimizer.state_dict()})\n",
        "\n",
        "#     # summarize history for accuracy\n",
        "#     plt.plot(train_accs)\n",
        "#     plt.plot(val_accs)\n",
        "#     plt.title('Model Accuracy')\n",
        "#     plt.ylabel('Accuracy')\n",
        "#     plt.xlabel('Epoch')\n",
        "#     plt.legend(['Train', 'Test'], loc='upper left')\n",
        "#     plt.show()\n",
        "#     # summarize history for loss\n",
        "#     plt.plot(train_losses)\n",
        "#     plt.plot(val_losses)\n",
        "#     plt.title('Model Loss')\n",
        "#     plt.ylabel('Loss')\n",
        "#     plt.xlabel('Epoch')\n",
        "#     plt.legend(['Train', 'Test'], loc='upper left')\n",
        "#     plt.show()\n",
        "torch.save(model_state_dicts, \"My-Model.pt\")\n"
      ]
    },
    {
      "cell_type": "code",
      "execution_count": null,
      "metadata": {
        "id": "-bvcnNbarbZ1"
      },
      "outputs": [],
      "source": []
    }
  ],
  "metadata": {
    "accelerator": "GPU",
    "colab": {
      "provenance": []
    },
    "kernelspec": {
      "display_name": "Python 3",
      "name": "python3"
    },
    "language_info": {
      "name": "python"
    }
  },
  "nbformat": 4,
  "nbformat_minor": 0
}